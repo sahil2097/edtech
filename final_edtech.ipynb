{
 "cells": [
  {
   "cell_type": "code",
   "execution_count": 1,
   "id": "b2533d10",
   "metadata": {},
   "outputs": [],
   "source": [
    "import pandas as pd\n",
    "import seaborn as sns\n",
    "import numpy as np"
   ]
  },
  {
   "cell_type": "code",
   "execution_count": 2,
   "id": "cf5bfd64",
   "metadata": {},
   "outputs": [],
   "source": [
    "%matplotlib inline"
   ]
  },
  {
   "cell_type": "code",
   "execution_count": 3,
   "id": "f6939be9",
   "metadata": {},
   "outputs": [],
   "source": [
    "# loading data\n",
    "edtech = pd.read_csv(r'C:\\Users\\sahil\\Documents\\360 DigitMG\\Project\\project attempt2\\edtech_price_prediction.csv')"
   ]
  },
  {
   "cell_type": "code",
   "execution_count": 4,
   "id": "eed1f15d",
   "metadata": {},
   "outputs": [
    {
     "data": {
      "text/plain": [
       "(250, 25)"
      ]
     },
     "execution_count": 4,
     "metadata": {},
     "output_type": "execute_result"
    }
   ],
   "source": [
    "# shape of data\n",
    "edtech.shape"
   ]
  },
  {
   "cell_type": "code",
   "execution_count": 5,
   "id": "c1db8e38",
   "metadata": {},
   "outputs": [
    {
     "name": "stdout",
     "output_type": "stream",
     "text": [
      "<class 'pandas.core.frame.DataFrame'>\n",
      "RangeIndex: 250 entries, 0 to 249\n",
      "Data columns (total 25 columns):\n",
      " #   Column                        Non-Null Count  Dtype \n",
      "---  ------                        --------------  ----- \n",
      " 0   Unnamed: 0                    250 non-null    int64 \n",
      " 1   institute                     250 non-null    object\n",
      " 2   institute_brand_value         250 non-null    object\n",
      " 3   course_title                  250 non-null    object\n",
      " 4   course_market                 250 non-null    object\n",
      " 5   online_live_class             250 non-null    object\n",
      " 6   online_pre_recorded_sessions  250 non-null    object\n",
      " 7   Offiline_classes              250 non-null    object\n",
      " 8   state                         250 non-null    object\n",
      " 9   instructors_grade             250 non-null    object\n",
      " 10  number_of_instructors         250 non-null    int64 \n",
      " 11  course_Level                  250 non-null    object\n",
      " 12  course_length                 250 non-null    int64 \n",
      " 13  support_Staff_required        250 non-null    object\n",
      " 14  cost_of_course_curricullum    250 non-null    object\n",
      " 15  study_material_cost           250 non-null    int64 \n",
      " 16  Office_rent                   250 non-null    int64 \n",
      " 17  Infrastructure_cost           250 non-null    object\n",
      " 18  Office_electricity_charges    250 non-null    int64 \n",
      " 19  Misclleneous_expense          250 non-null    int64 \n",
      " 20  cost_of_acquisition           250 non-null    int64 \n",
      " 21  competition_level             250 non-null    object\n",
      " 22  certification                 250 non-null    object\n",
      " 23  Placement                     250 non-null    object\n",
      " 24  price                         250 non-null    int64 \n",
      "dtypes: int64(9), object(16)\n",
      "memory usage: 49.0+ KB\n"
     ]
    }
   ],
   "source": [
    "# Finding datatypes\n",
    "edtech.info()"
   ]
  },
  {
   "cell_type": "code",
   "execution_count": 6,
   "id": "02ba6c64",
   "metadata": {},
   "outputs": [],
   "source": [
    "# dropping column\n",
    "edtech = edtech.iloc[:,2:]"
   ]
  },
  {
   "cell_type": "code",
   "execution_count": 7,
   "id": "1ded4a8e",
   "metadata": {},
   "outputs": [
    {
     "data": {
      "text/plain": [
       "13"
      ]
     },
     "execution_count": 7,
     "metadata": {},
     "output_type": "execute_result"
    }
   ],
   "source": [
    "# checking for duplicates values\n",
    "\n",
    "edtech.duplicated().sum()"
   ]
  },
  {
   "cell_type": "code",
   "execution_count": 8,
   "id": "e1645e5e",
   "metadata": {},
   "outputs": [],
   "source": [
    "# dropping the duplicate values\n",
    "edtech.drop_duplicates(inplace=True)"
   ]
  },
  {
   "cell_type": "code",
   "execution_count": 9,
   "id": "fa508b40",
   "metadata": {},
   "outputs": [
    {
     "data": {
      "text/plain": [
       "(237, 23)"
      ]
     },
     "execution_count": 9,
     "metadata": {},
     "output_type": "execute_result"
    }
   ],
   "source": [
    "edtech.shape"
   ]
  },
  {
   "cell_type": "code",
   "execution_count": 10,
   "id": "eefe7cfa",
   "metadata": {},
   "outputs": [
    {
     "data": {
      "text/plain": [
       "Index(['institute_brand_value', 'course_title', 'course_market',\n",
       "       'online_live_class', 'online_pre_recorded_sessions', 'Offiline_classes',\n",
       "       'state', 'instructors_grade', 'number_of_instructors', 'course_Level',\n",
       "       'course_length', 'support_Staff_required', 'cost_of_course_curricullum',\n",
       "       'study_material_cost', 'Office_rent', 'Infrastructure_cost',\n",
       "       'Office_electricity_charges', 'Misclleneous_expense',\n",
       "       'cost_of_acquisition', 'competition_level', 'certification',\n",
       "       'Placement', 'price'],\n",
       "      dtype='object')"
      ]
     },
     "execution_count": 10,
     "metadata": {},
     "output_type": "execute_result"
    }
   ],
   "source": [
    "edtech.columns"
   ]
  },
  {
   "cell_type": "code",
   "execution_count": 11,
   "id": "fff4509e",
   "metadata": {},
   "outputs": [
    {
     "data": {
      "text/plain": [
       "institute_brand_value           0\n",
       "course_title                    0\n",
       "course_market                   0\n",
       "online_live_class               0\n",
       "online_pre_recorded_sessions    0\n",
       "Offiline_classes                0\n",
       "state                           0\n",
       "instructors_grade               0\n",
       "number_of_instructors           0\n",
       "course_Level                    0\n",
       "course_length                   0\n",
       "support_Staff_required          0\n",
       "cost_of_course_curricullum      0\n",
       "study_material_cost             0\n",
       "Office_rent                     0\n",
       "Infrastructure_cost             0\n",
       "Office_electricity_charges      0\n",
       "Misclleneous_expense            0\n",
       "cost_of_acquisition             0\n",
       "competition_level               0\n",
       "certification                   0\n",
       "Placement                       0\n",
       "price                           0\n",
       "dtype: int64"
      ]
     },
     "execution_count": 11,
     "metadata": {},
     "output_type": "execute_result"
    }
   ],
   "source": [
    "# checking for missing values\n",
    "edtech.isnull().sum()"
   ]
  },
  {
   "cell_type": "code",
   "execution_count": 12,
   "id": "456264ab",
   "metadata": {},
   "outputs": [
    {
     "name": "stderr",
     "output_type": "stream",
     "text": [
      "C:\\Users\\sahil\\AppData\\Local\\Temp\\ipykernel_6000\\2121151188.py:3: FutureWarning: Dropping of nuisance columns in DataFrame reductions (with 'numeric_only=None') is deprecated; in a future version this will raise TypeError.  Select only valid columns before calling the reduction.\n",
      "  edtech.var()==0\n"
     ]
    },
    {
     "data": {
      "text/plain": [
       "number_of_instructors         False\n",
       "course_length                 False\n",
       "study_material_cost           False\n",
       "Office_rent                   False\n",
       "Office_electricity_charges    False\n",
       "Misclleneous_expense          False\n",
       "cost_of_acquisition           False\n",
       "price                         False\n",
       "dtype: bool"
      ]
     },
     "execution_count": 12,
     "metadata": {},
     "output_type": "execute_result"
    }
   ],
   "source": [
    "# checking for zero variance\n",
    "\n",
    "edtech.var()==0"
   ]
  },
  {
   "cell_type": "code",
   "execution_count": 13,
   "id": "01b5c42c",
   "metadata": {},
   "outputs": [
    {
     "data": {
      "text/html": [
       "<div>\n",
       "<style scoped>\n",
       "    .dataframe tbody tr th:only-of-type {\n",
       "        vertical-align: middle;\n",
       "    }\n",
       "\n",
       "    .dataframe tbody tr th {\n",
       "        vertical-align: top;\n",
       "    }\n",
       "\n",
       "    .dataframe thead th {\n",
       "        text-align: right;\n",
       "    }\n",
       "</style>\n",
       "<table border=\"1\" class=\"dataframe\">\n",
       "  <thead>\n",
       "    <tr style=\"text-align: right;\">\n",
       "      <th></th>\n",
       "      <th>number_of_instructors</th>\n",
       "      <th>course_length</th>\n",
       "      <th>study_material_cost</th>\n",
       "      <th>Office_rent</th>\n",
       "      <th>Office_electricity_charges</th>\n",
       "      <th>Misclleneous_expense</th>\n",
       "      <th>cost_of_acquisition</th>\n",
       "      <th>price</th>\n",
       "    </tr>\n",
       "  </thead>\n",
       "  <tbody>\n",
       "    <tr>\n",
       "      <th>count</th>\n",
       "      <td>237.000000</td>\n",
       "      <td>237.000000</td>\n",
       "      <td>237.000000</td>\n",
       "      <td>237.000000</td>\n",
       "      <td>237.000000</td>\n",
       "      <td>237.000000</td>\n",
       "      <td>237.000000</td>\n",
       "      <td>237.000000</td>\n",
       "    </tr>\n",
       "    <tr>\n",
       "      <th>mean</th>\n",
       "      <td>1.738397</td>\n",
       "      <td>146.856540</td>\n",
       "      <td>2049.789030</td>\n",
       "      <td>40696.202532</td>\n",
       "      <td>8676.793249</td>\n",
       "      <td>3219.409283</td>\n",
       "      <td>1349.873418</td>\n",
       "      <td>35321.755274</td>\n",
       "    </tr>\n",
       "    <tr>\n",
       "      <th>std</th>\n",
       "      <td>0.712422</td>\n",
       "      <td>56.967249</td>\n",
       "      <td>2042.340475</td>\n",
       "      <td>20196.086064</td>\n",
       "      <td>6041.979683</td>\n",
       "      <td>1783.410745</td>\n",
       "      <td>776.243934</td>\n",
       "      <td>14866.760129</td>\n",
       "    </tr>\n",
       "    <tr>\n",
       "      <th>min</th>\n",
       "      <td>1.000000</td>\n",
       "      <td>25.000000</td>\n",
       "      <td>0.000000</td>\n",
       "      <td>20000.000000</td>\n",
       "      <td>1800.000000</td>\n",
       "      <td>1000.000000</td>\n",
       "      <td>200.000000</td>\n",
       "      <td>9099.000000</td>\n",
       "    </tr>\n",
       "    <tr>\n",
       "      <th>25%</th>\n",
       "      <td>1.000000</td>\n",
       "      <td>140.000000</td>\n",
       "      <td>0.000000</td>\n",
       "      <td>20000.000000</td>\n",
       "      <td>3500.000000</td>\n",
       "      <td>1500.000000</td>\n",
       "      <td>600.000000</td>\n",
       "      <td>23000.000000</td>\n",
       "    </tr>\n",
       "    <tr>\n",
       "      <th>50%</th>\n",
       "      <td>2.000000</td>\n",
       "      <td>140.000000</td>\n",
       "      <td>2000.000000</td>\n",
       "      <td>25000.000000</td>\n",
       "      <td>5000.000000</td>\n",
       "      <td>3500.000000</td>\n",
       "      <td>1200.000000</td>\n",
       "      <td>38000.000000</td>\n",
       "    </tr>\n",
       "    <tr>\n",
       "      <th>75%</th>\n",
       "      <td>2.000000</td>\n",
       "      <td>180.000000</td>\n",
       "      <td>3600.000000</td>\n",
       "      <td>50000.000000</td>\n",
       "      <td>15000.000000</td>\n",
       "      <td>5000.000000</td>\n",
       "      <td>1800.000000</td>\n",
       "      <td>46400.000000</td>\n",
       "    </tr>\n",
       "    <tr>\n",
       "      <th>max</th>\n",
       "      <td>3.000000</td>\n",
       "      <td>240.000000</td>\n",
       "      <td>6000.000000</td>\n",
       "      <td>70000.000000</td>\n",
       "      <td>18000.000000</td>\n",
       "      <td>6600.000000</td>\n",
       "      <td>3000.000000</td>\n",
       "      <td>65070.000000</td>\n",
       "    </tr>\n",
       "  </tbody>\n",
       "</table>\n",
       "</div>"
      ],
      "text/plain": [
       "       number_of_instructors  course_length  study_material_cost  \\\n",
       "count             237.000000     237.000000           237.000000   \n",
       "mean                1.738397     146.856540          2049.789030   \n",
       "std                 0.712422      56.967249          2042.340475   \n",
       "min                 1.000000      25.000000             0.000000   \n",
       "25%                 1.000000     140.000000             0.000000   \n",
       "50%                 2.000000     140.000000          2000.000000   \n",
       "75%                 2.000000     180.000000          3600.000000   \n",
       "max                 3.000000     240.000000          6000.000000   \n",
       "\n",
       "        Office_rent  Office_electricity_charges  Misclleneous_expense  \\\n",
       "count    237.000000                  237.000000            237.000000   \n",
       "mean   40696.202532                 8676.793249           3219.409283   \n",
       "std    20196.086064                 6041.979683           1783.410745   \n",
       "min    20000.000000                 1800.000000           1000.000000   \n",
       "25%    20000.000000                 3500.000000           1500.000000   \n",
       "50%    25000.000000                 5000.000000           3500.000000   \n",
       "75%    50000.000000                15000.000000           5000.000000   \n",
       "max    70000.000000                18000.000000           6600.000000   \n",
       "\n",
       "       cost_of_acquisition         price  \n",
       "count           237.000000    237.000000  \n",
       "mean           1349.873418  35321.755274  \n",
       "std             776.243934  14866.760129  \n",
       "min             200.000000   9099.000000  \n",
       "25%             600.000000  23000.000000  \n",
       "50%            1200.000000  38000.000000  \n",
       "75%            1800.000000  46400.000000  \n",
       "max            3000.000000  65070.000000  "
      ]
     },
     "execution_count": 13,
     "metadata": {},
     "output_type": "execute_result"
    }
   ],
   "source": [
    "edtech.describe()"
   ]
  },
  {
   "cell_type": "code",
   "execution_count": 14,
   "id": "0bbdcfdd",
   "metadata": {},
   "outputs": [
    {
     "data": {
      "text/plain": [
       "Index(['institute_brand_value', 'course_title', 'course_market',\n",
       "       'online_live_class', 'online_pre_recorded_sessions', 'Offiline_classes',\n",
       "       'state', 'instructors_grade', 'number_of_instructors', 'course_Level',\n",
       "       'course_length', 'support_Staff_required', 'cost_of_course_curricullum',\n",
       "       'study_material_cost', 'Office_rent', 'Infrastructure_cost',\n",
       "       'Office_electricity_charges', 'Misclleneous_expense',\n",
       "       'cost_of_acquisition', 'competition_level', 'certification',\n",
       "       'Placement', 'price'],\n",
       "      dtype='object')"
      ]
     },
     "execution_count": 14,
     "metadata": {},
     "output_type": "execute_result"
    }
   ],
   "source": [
    "edtech.columns"
   ]
  },
  {
   "cell_type": "code",
   "execution_count": 15,
   "id": "8d1af1ef",
   "metadata": {},
   "outputs": [
    {
     "name": "stderr",
     "output_type": "stream",
     "text": [
      "C:\\Users\\sahil\\AppData\\Local\\Temp\\ipykernel_6000\\2084289520.py:3: FutureWarning: Dropping of nuisance columns in DataFrame reductions (with 'numeric_only=None') is deprecated; in a future version this will raise TypeError.  Select only valid columns before calling the reduction.\n",
      "  edtech.mean()\n"
     ]
    },
    {
     "data": {
      "text/plain": [
       "number_of_instructors             1.738397\n",
       "course_length                   146.856540\n",
       "study_material_cost            2049.789030\n",
       "Office_rent                   40696.202532\n",
       "Office_electricity_charges     8676.793249\n",
       "Misclleneous_expense           3219.409283\n",
       "cost_of_acquisition            1349.873418\n",
       "price                         35321.755274\n",
       "dtype: float64"
      ]
     },
     "execution_count": 15,
     "metadata": {},
     "output_type": "execute_result"
    }
   ],
   "source": [
    "# Exploratory Data Analysis\n",
    "\n",
    "edtech.mean()"
   ]
  },
  {
   "cell_type": "code",
   "execution_count": 16,
   "id": "f3b832d0",
   "metadata": {},
   "outputs": [
    {
     "name": "stderr",
     "output_type": "stream",
     "text": [
      "C:\\Users\\sahil\\AppData\\Local\\Temp\\ipykernel_6000\\2564758706.py:2: FutureWarning: Dropping of nuisance columns in DataFrame reductions (with 'numeric_only=None') is deprecated; in a future version this will raise TypeError.  Select only valid columns before calling the reduction.\n",
      "  edtech.median()\n"
     ]
    },
    {
     "data": {
      "text/plain": [
       "number_of_instructors             2.0\n",
       "course_length                   140.0\n",
       "study_material_cost            2000.0\n",
       "Office_rent                   25000.0\n",
       "Office_electricity_charges     5000.0\n",
       "Misclleneous_expense           3500.0\n",
       "cost_of_acquisition            1200.0\n",
       "price                         38000.0\n",
       "dtype: float64"
      ]
     },
     "execution_count": 16,
     "metadata": {},
     "output_type": "execute_result"
    }
   ],
   "source": [
    "# Median\n",
    "edtech.median()"
   ]
  },
  {
   "cell_type": "code",
   "execution_count": 17,
   "id": "a86241ee",
   "metadata": {},
   "outputs": [
    {
     "name": "stderr",
     "output_type": "stream",
     "text": [
      "C:\\Users\\sahil\\AppData\\Local\\Temp\\ipykernel_6000\\3423157611.py:3: FutureWarning: Dropping of nuisance columns in DataFrame reductions (with 'numeric_only=None') is deprecated; in a future version this will raise TypeError.  Select only valid columns before calling the reduction.\n",
      "  edtech.var()\n"
     ]
    },
    {
     "data": {
      "text/plain": [
       "number_of_instructors         5.075449e-01\n",
       "course_length                 3.245267e+03\n",
       "study_material_cost           4.171155e+06\n",
       "Office_rent                   4.078819e+08\n",
       "Office_electricity_charges    3.650552e+07\n",
       "Misclleneous_expense          3.180554e+06\n",
       "cost_of_acquisition           6.025546e+05\n",
       "price                         2.210206e+08\n",
       "dtype: float64"
      ]
     },
     "execution_count": 17,
     "metadata": {},
     "output_type": "execute_result"
    }
   ],
   "source": [
    "# 2nd Business moment\n",
    "# Variance\n",
    "edtech.var()"
   ]
  },
  {
   "cell_type": "code",
   "execution_count": 18,
   "id": "651ca1eb",
   "metadata": {},
   "outputs": [
    {
     "name": "stderr",
     "output_type": "stream",
     "text": [
      "C:\\Users\\sahil\\AppData\\Local\\Temp\\ipykernel_6000\\2999890209.py:3: FutureWarning: Dropping of nuisance columns in DataFrame reductions (with 'numeric_only=None') is deprecated; in a future version this will raise TypeError.  Select only valid columns before calling the reduction.\n",
      "  edtech.std()\n"
     ]
    },
    {
     "data": {
      "text/plain": [
       "number_of_instructors             0.712422\n",
       "course_length                    56.967249\n",
       "study_material_cost            2042.340475\n",
       "Office_rent                   20196.086064\n",
       "Office_electricity_charges     6041.979683\n",
       "Misclleneous_expense           1783.410745\n",
       "cost_of_acquisition             776.243934\n",
       "price                         14866.760129\n",
       "dtype: float64"
      ]
     },
     "execution_count": 18,
     "metadata": {},
     "output_type": "execute_result"
    }
   ],
   "source": [
    "#Standard Deviation\n",
    "\n",
    "edtech.std()"
   ]
  },
  {
   "cell_type": "code",
   "execution_count": 19,
   "id": "b6fd2b77",
   "metadata": {},
   "outputs": [
    {
     "name": "stderr",
     "output_type": "stream",
     "text": [
      "C:\\Users\\sahil\\AppData\\Local\\Temp\\ipykernel_6000\\3957750962.py:3: FutureWarning: Dropping of nuisance columns in DataFrame reductions (with 'numeric_only=None') is deprecated; in a future version this will raise TypeError.  Select only valid columns before calling the reduction.\n",
      "  edtech.skew()\n"
     ]
    },
    {
     "data": {
      "text/plain": [
       "number_of_instructors         0.428392\n",
       "course_length                -0.725952\n",
       "study_material_cost           0.305640\n",
       "Office_rent                   0.372857\n",
       "Office_electricity_charges    0.451230\n",
       "Misclleneous_expense          0.187524\n",
       "cost_of_acquisition           0.273540\n",
       "price                        -0.053611\n",
       "dtype: float64"
      ]
     },
     "execution_count": 19,
     "metadata": {},
     "output_type": "execute_result"
    }
   ],
   "source": [
    "# Skewness\n",
    "\n",
    "edtech.skew()"
   ]
  },
  {
   "cell_type": "code",
   "execution_count": 20,
   "id": "74f6d46e",
   "metadata": {},
   "outputs": [
    {
     "name": "stderr",
     "output_type": "stream",
     "text": [
      "C:\\Users\\sahil\\AppData\\Local\\Temp\\ipykernel_6000\\34041006.py:3: FutureWarning: Dropping of nuisance columns in DataFrame reductions (with 'numeric_only=None') is deprecated; in a future version this will raise TypeError.  Select only valid columns before calling the reduction.\n",
      "  edtech.kurt()\n"
     ]
    },
    {
     "data": {
      "text/plain": [
       "number_of_instructors        -0.952455\n",
       "course_length                 0.159609\n",
       "study_material_cost          -1.361589\n",
       "Office_rent                  -1.514491\n",
       "Office_electricity_charges   -1.573401\n",
       "Misclleneous_expense         -1.490503\n",
       "cost_of_acquisition          -1.101653\n",
       "price                        -1.063202\n",
       "dtype: float64"
      ]
     },
     "execution_count": 20,
     "metadata": {},
     "output_type": "execute_result"
    }
   ],
   "source": [
    "# Kurtosis\n",
    "\n",
    "edtech.kurt()"
   ]
  },
  {
   "cell_type": "code",
   "execution_count": 21,
   "id": "76cc2886",
   "metadata": {},
   "outputs": [
    {
     "data": {
      "text/plain": [
       "Index(['institute_brand_value', 'course_title', 'course_market',\n",
       "       'online_live_class', 'online_pre_recorded_sessions', 'Offiline_classes',\n",
       "       'state', 'instructors_grade', 'number_of_instructors', 'course_Level',\n",
       "       'course_length', 'support_Staff_required', 'cost_of_course_curricullum',\n",
       "       'study_material_cost', 'Office_rent', 'Infrastructure_cost',\n",
       "       'Office_electricity_charges', 'Misclleneous_expense',\n",
       "       'cost_of_acquisition', 'competition_level', 'certification',\n",
       "       'Placement', 'price'],\n",
       "      dtype='object')"
      ]
     },
     "execution_count": 21,
     "metadata": {},
     "output_type": "execute_result"
    }
   ],
   "source": [
    "edtech.columns"
   ]
  },
  {
   "cell_type": "code",
   "execution_count": 22,
   "id": "6b5c7cf6",
   "metadata": {},
   "outputs": [
    {
     "name": "stderr",
     "output_type": "stream",
     "text": [
      "C:\\Users\\sahil\\anaconda3\\lib\\site-packages\\seaborn\\_decorators.py:36: FutureWarning: Pass the following variable as a keyword arg: x. From version 0.12, the only valid positional argument will be `data`, and passing other arguments without an explicit keyword will result in an error or misinterpretation.\n",
      "  warnings.warn(\n"
     ]
    },
    {
     "data": {
      "text/plain": [
       "<AxesSubplot:xlabel='institute_brand_value', ylabel='count'>"
      ]
     },
     "execution_count": 22,
     "metadata": {},
     "output_type": "execute_result"
    },
    {
     "data": {
      "image/png": "[encoded data removed]",
      "text/plain": [
       "<Figure size 432x288 with 1 Axes>"
      ]
     },
     "metadata": {
      "needs_background": "light"
     },
     "output_type": "display_data"
    }
   ],
   "source": [
    "sns.countplot(edtech.institute_brand_value)"
   ]
  },
  {
   "cell_type": "code",
   "execution_count": 23,
   "id": "6489b1df",
   "metadata": {},
   "outputs": [
    {
     "name": "stderr",
     "output_type": "stream",
     "text": [
      "C:\\Users\\sahil\\anaconda3\\lib\\site-packages\\seaborn\\_decorators.py:36: FutureWarning: Pass the following variable as a keyword arg: x. From version 0.12, the only valid positional argument will be `data`, and passing other arguments without an explicit keyword will result in an error or misinterpretation.\n",
      "  warnings.warn(\n"
     ]
    },
    {
     "data": {
      "text/plain": [
       "<AxesSubplot:xlabel='course_title', ylabel='count'>"
      ]
     },
     "execution_count": 23,
     "metadata": {},
     "output_type": "execute_result"
    },
    {
     "data": {
      "image/png": "[encoded data removed]",
      "text/plain": [
       "<Figure size 432x288 with 1 Axes>"
      ]
     },
     "metadata": {
      "needs_background": "light"
     },
     "output_type": "display_data"
    }
   ],
   "source": [
    "sns.countplot(edtech.course_title)"
   ]
  },
  {
   "cell_type": "code",
   "execution_count": 24,
   "id": "0117d8e5",
   "metadata": {},
   "outputs": [
    {
     "name": "stderr",
     "output_type": "stream",
     "text": [
      "C:\\Users\\sahil\\anaconda3\\lib\\site-packages\\seaborn\\_decorators.py:36: FutureWarning: Pass the following variable as a keyword arg: x. From version 0.12, the only valid positional argument will be `data`, and passing other arguments without an explicit keyword will result in an error or misinterpretation.\n",
      "  warnings.warn(\n"
     ]
    },
    {
     "data": {
      "text/plain": [
       "<AxesSubplot:xlabel='course_market', ylabel='count'>"
      ]
     },
     "execution_count": 24,
     "metadata": {},
     "output_type": "execute_result"
    },
    {
     "data": {
      "image/png": "[encoded data removed]",
      "text/plain": [
       "<Figure size 432x288 with 1 Axes>"
      ]
     },
     "metadata": {
      "needs_background": "light"
     },
     "output_type": "display_data"
    }
   ],
   "source": [
    "sns.countplot(edtech.course_market)"
   ]
  },
  {
   "cell_type": "code",
   "execution_count": 25,
   "id": "efd6e69f",
   "metadata": {},
   "outputs": [
    {
     "name": "stderr",
     "output_type": "stream",
     "text": [
      "C:\\Users\\sahil\\anaconda3\\lib\\site-packages\\seaborn\\_decorators.py:36: FutureWarning: Pass the following variable as a keyword arg: x. From version 0.12, the only valid positional argument will be `data`, and passing other arguments without an explicit keyword will result in an error or misinterpretation.\n",
      "  warnings.warn(\n"
     ]
    },
    {
     "data": {
      "text/plain": [
       "<AxesSubplot:xlabel='online_live_class', ylabel='count'>"
      ]
     },
     "execution_count": 25,
     "metadata": {},
     "output_type": "execute_result"
    },
    {
     "data": {
      "image/png": "[encoded data removed]",
      "text/plain": [
       "<Figure size 432x288 with 1 Axes>"
      ]
     },
     "metadata": {
      "needs_background": "light"
     },
     "output_type": "display_data"
    }
   ],
   "source": [
    "sns.countplot(edtech.online_live_class)"
   ]
  },
  {
   "cell_type": "code",
   "execution_count": 26,
   "id": "55e93665",
   "metadata": {},
   "outputs": [
    {
     "name": "stderr",
     "output_type": "stream",
     "text": [
      "C:\\Users\\sahil\\anaconda3\\lib\\site-packages\\seaborn\\_decorators.py:36: FutureWarning: Pass the following variable as a keyword arg: x. From version 0.12, the only valid positional argument will be `data`, and passing other arguments without an explicit keyword will result in an error or misinterpretation.\n",
      "  warnings.warn(\n"
     ]
    },
    {
     "data": {
      "text/plain": [
       "<AxesSubplot:xlabel='online_pre_recorded_sessions', ylabel='count'>"
      ]
     },
     "execution_count": 26,
     "metadata": {},
     "output_type": "execute_result"
    },
    {
     "data": {
      "image/png": "[encoded data removed]",
      "text/plain": [
       "<Figure size 432x288 with 1 Axes>"
      ]
     },
     "metadata": {
      "needs_background": "light"
     },
     "output_type": "display_data"
    }
   ],
   "source": [
    "sns.countplot(edtech.online_pre_recorded_sessions)"
   ]
  },
  {
   "cell_type": "code",
   "execution_count": 27,
   "id": "30a13231",
   "metadata": {},
   "outputs": [
    {
     "name": "stderr",
     "output_type": "stream",
     "text": [
      "C:\\Users\\sahil\\anaconda3\\lib\\site-packages\\seaborn\\_decorators.py:36: FutureWarning: Pass the following variable as a keyword arg: x. From version 0.12, the only valid positional argument will be `data`, and passing other arguments without an explicit keyword will result in an error or misinterpretation.\n",
      "  warnings.warn(\n"
     ]
    },
    {
     "data": {
      "text/plain": [
       "<AxesSubplot:xlabel='Offiline_classes', ylabel='count'>"
      ]
     },
     "execution_count": 27,
     "metadata": {},
     "output_type": "execute_result"
    },
    {
     "data": {
      "image/png": "[encoded data removed]",
      "text/plain": [
       "<Figure size 432x288 with 1 Axes>"
      ]
     },
     "metadata": {
      "needs_background": "light"
     },
     "output_type": "display_data"
    }
   ],
   "source": [
    "sns.countplot(edtech.Offiline_classes)"
   ]
  },
  {
   "cell_type": "code",
   "execution_count": 28,
   "id": "8c7f5a59",
   "metadata": {},
   "outputs": [
    {
     "name": "stderr",
     "output_type": "stream",
     "text": [
      "C:\\Users\\sahil\\anaconda3\\lib\\site-packages\\seaborn\\_decorators.py:36: FutureWarning: Pass the following variable as a keyword arg: x. From version 0.12, the only valid positional argument will be `data`, and passing other arguments without an explicit keyword will result in an error or misinterpretation.\n",
      "  warnings.warn(\n"
     ]
    },
    {
     "data": {
      "text/plain": [
       "<AxesSubplot:xlabel='state', ylabel='count'>"
      ]
     },
     "execution_count": 28,
     "metadata": {},
     "output_type": "execute_result"
    },
    {
     "data": {
      "image/png": "[encoded data removed]",
      "text/plain": [
       "<Figure size 432x288 with 1 Axes>"
      ]
     },
     "metadata": {
      "needs_background": "light"
     },
     "output_type": "display_data"
    }
   ],
   "source": [
    "sns.countplot(edtech.state)"
   ]
  },
  {
   "cell_type": "code",
   "execution_count": 29,
   "id": "3dc043b0",
   "metadata": {},
   "outputs": [
    {
     "name": "stderr",
     "output_type": "stream",
     "text": [
      "C:\\Users\\sahil\\anaconda3\\lib\\site-packages\\seaborn\\_decorators.py:36: FutureWarning: Pass the following variable as a keyword arg: x. From version 0.12, the only valid positional argument will be `data`, and passing other arguments without an explicit keyword will result in an error or misinterpretation.\n",
      "  warnings.warn(\n"
     ]
    },
    {
     "data": {
      "text/plain": [
       "<AxesSubplot:xlabel='instructors_grade', ylabel='count'>"
      ]
     },
     "execution_count": 29,
     "metadata": {},
     "output_type": "execute_result"
    },
    {
     "data": {
      "image/png": "[encoded data removed]",
      "text/plain": [
       "<Figure size 432x288 with 1 Axes>"
      ]
     },
     "metadata": {
      "needs_background": "light"
     },
     "output_type": "display_data"
    }
   ],
   "source": [
    "sns.countplot(edtech.instructors_grade)"
   ]
  },
  {
   "cell_type": "code",
   "execution_count": 30,
   "id": "e4ed4350",
   "metadata": {},
   "outputs": [
    {
     "name": "stderr",
     "output_type": "stream",
     "text": [
      "C:\\Users\\sahil\\anaconda3\\lib\\site-packages\\seaborn\\_decorators.py:36: FutureWarning: Pass the following variable as a keyword arg: x. From version 0.12, the only valid positional argument will be `data`, and passing other arguments without an explicit keyword will result in an error or misinterpretation.\n",
      "  warnings.warn(\n"
     ]
    },
    {
     "data": {
      "text/plain": [
       "<AxesSubplot:xlabel='course_Level', ylabel='count'>"
      ]
     },
     "execution_count": 30,
     "metadata": {},
     "output_type": "execute_result"
    },
    {
     "data": {
      "image/png": "[encoded data removed]",
      "text/plain": [
       "<Figure size 432x288 with 1 Axes>"
      ]
     },
     "metadata": {
      "needs_background": "light"
     },
     "output_type": "display_data"
    }
   ],
   "source": [
    "sns.countplot(edtech.course_Level)"
   ]
  },
  {
   "cell_type": "code",
   "execution_count": 31,
   "id": "5e8221b6",
   "metadata": {},
   "outputs": [
    {
     "name": "stderr",
     "output_type": "stream",
     "text": [
      "C:\\Users\\sahil\\anaconda3\\lib\\site-packages\\seaborn\\_decorators.py:36: FutureWarning: Pass the following variable as a keyword arg: x. From version 0.12, the only valid positional argument will be `data`, and passing other arguments without an explicit keyword will result in an error or misinterpretation.\n",
      "  warnings.warn(\n"
     ]
    },
    {
     "data": {
      "text/plain": [
       "<AxesSubplot:xlabel='Infrastructure_cost', ylabel='count'>"
      ]
     },
     "execution_count": 31,
     "metadata": {},
     "output_type": "execute_result"
    },
    {
     "data": {
      "image/png": "[encoded data removed]",
      "text/plain": [
       "<Figure size 432x288 with 1 Axes>"
      ]
     },
     "metadata": {
      "needs_background": "light"
     },
     "output_type": "display_data"
    }
   ],
   "source": [
    "sns.countplot(edtech.Infrastructure_cost)"
   ]
  },
  {
   "cell_type": "code",
   "execution_count": 32,
   "id": "85c35bbc",
   "metadata": {},
   "outputs": [
    {
     "name": "stderr",
     "output_type": "stream",
     "text": [
      "C:\\Users\\sahil\\anaconda3\\lib\\site-packages\\seaborn\\_decorators.py:36: FutureWarning: Pass the following variable as a keyword arg: x. From version 0.12, the only valid positional argument will be `data`, and passing other arguments without an explicit keyword will result in an error or misinterpretation.\n",
      "  warnings.warn(\n"
     ]
    },
    {
     "data": {
      "text/plain": [
       "<AxesSubplot:xlabel='cost_of_course_curricullum', ylabel='count'>"
      ]
     },
     "execution_count": 32,
     "metadata": {},
     "output_type": "execute_result"
    },
    {
     "data": {
      "image/png": "[encoded data removed]",
      "text/plain": [
       "<Figure size 432x288 with 1 Axes>"
      ]
     },
     "metadata": {
      "needs_background": "light"
     },
     "output_type": "display_data"
    }
   ],
   "source": [
    "sns.countplot(edtech.cost_of_course_curricullum)"
   ]
  },
  {
   "cell_type": "code",
   "execution_count": 33,
   "id": "1a18eb08",
   "metadata": {},
   "outputs": [
    {
     "name": "stderr",
     "output_type": "stream",
     "text": [
      "C:\\Users\\sahil\\anaconda3\\lib\\site-packages\\seaborn\\_decorators.py:36: FutureWarning: Pass the following variable as a keyword arg: x. From version 0.12, the only valid positional argument will be `data`, and passing other arguments without an explicit keyword will result in an error or misinterpretation.\n",
      "  warnings.warn(\n"
     ]
    },
    {
     "data": {
      "text/plain": [
       "<AxesSubplot:xlabel='competition_level', ylabel='count'>"
      ]
     },
     "execution_count": 33,
     "metadata": {},
     "output_type": "execute_result"
    },
    {
     "data": {
      "image/png": "[encoded data removed]",
      "text/plain": [
       "<Figure size 432x288 with 1 Axes>"
      ]
     },
     "metadata": {
      "needs_background": "light"
     },
     "output_type": "display_data"
    }
   ],
   "source": [
    "sns.countplot(edtech.competition_level)"
   ]
  },
  {
   "cell_type": "code",
   "execution_count": 34,
   "id": "68e6a18c",
   "metadata": {},
   "outputs": [
    {
     "name": "stderr",
     "output_type": "stream",
     "text": [
      "C:\\Users\\sahil\\anaconda3\\lib\\site-packages\\seaborn\\_decorators.py:36: FutureWarning: Pass the following variable as a keyword arg: x. From version 0.12, the only valid positional argument will be `data`, and passing other arguments without an explicit keyword will result in an error or misinterpretation.\n",
      "  warnings.warn(\n"
     ]
    },
    {
     "data": {
      "text/plain": [
       "<AxesSubplot:xlabel='certification', ylabel='count'>"
      ]
     },
     "execution_count": 34,
     "metadata": {},
     "output_type": "execute_result"
    },
    {
     "data": {
      "image/png": "[encoded data removed]",
      "text/plain": [
       "<Figure size 432x288 with 1 Axes>"
      ]
     },
     "metadata": {
      "needs_background": "light"
     },
     "output_type": "display_data"
    }
   ],
   "source": [
    "sns.countplot(edtech.certification)"
   ]
  },
  {
   "cell_type": "code",
   "execution_count": 35,
   "id": "fdb6338f",
   "metadata": {},
   "outputs": [
    {
     "name": "stderr",
     "output_type": "stream",
     "text": [
      "C:\\Users\\sahil\\anaconda3\\lib\\site-packages\\seaborn\\_decorators.py:36: FutureWarning: Pass the following variable as a keyword arg: x. From version 0.12, the only valid positional argument will be `data`, and passing other arguments without an explicit keyword will result in an error or misinterpretation.\n",
      "  warnings.warn(\n"
     ]
    },
    {
     "data": {
      "text/plain": [
       "<AxesSubplot:xlabel='Placement', ylabel='count'>"
      ]
     },
     "execution_count": 35,
     "metadata": {},
     "output_type": "execute_result"
    },
    {
     "data": {
      "image/png": "[encoded data removed]",
      "text/plain": [
       "<Figure size 432x288 with 1 Axes>"
      ]
     },
     "metadata": {
      "needs_background": "light"
     },
     "output_type": "display_data"
    }
   ],
   "source": [
    "sns.countplot(edtech.Placement)"
   ]
  },
  {
   "cell_type": "code",
   "execution_count": 36,
   "id": "51bc2877",
   "metadata": {},
   "outputs": [
    {
     "name": "stderr",
     "output_type": "stream",
     "text": [
      "C:\\Users\\sahil\\anaconda3\\lib\\site-packages\\seaborn\\distributions.py:2619: FutureWarning: `distplot` is a deprecated function and will be removed in a future version. Please adapt your code to use either `displot` (a figure-level function with similar flexibility) or `histplot` (an axes-level function for histograms).\n",
      "  warnings.warn(msg, FutureWarning)\n"
     ]
    },
    {
     "data": {
      "text/plain": [
       "<AxesSubplot:xlabel='study_material_cost', ylabel='Density'>"
      ]
     },
     "execution_count": 36,
     "metadata": {},
     "output_type": "execute_result"
    },
    {
     "data": {
      "image/png": "[encoded data removed]",
      "text/plain": [
       "<Figure size 432x288 with 1 Axes>"
      ]
     },
     "metadata": {
      "needs_background": "light"
     },
     "output_type": "display_data"
    }
   ],
   "source": [
    "sns.distplot(edtech.study_material_cost)"
   ]
  },
  {
   "cell_type": "code",
   "execution_count": 37,
   "id": "aef91fee",
   "metadata": {},
   "outputs": [
    {
     "name": "stderr",
     "output_type": "stream",
     "text": [
      "C:\\Users\\sahil\\anaconda3\\lib\\site-packages\\seaborn\\distributions.py:2619: FutureWarning: `distplot` is a deprecated function and will be removed in a future version. Please adapt your code to use either `displot` (a figure-level function with similar flexibility) or `histplot` (an axes-level function for histograms).\n",
      "  warnings.warn(msg, FutureWarning)\n"
     ]
    },
    {
     "data": {
      "text/plain": [
       "<AxesSubplot:xlabel='number_of_instructors', ylabel='Density'>"
      ]
     },
     "execution_count": 37,
     "metadata": {},
     "output_type": "execute_result"
    },
    {
     "data": {
      "image/png": "[encoded data removed]",
      "text/plain": [
       "<Figure size 432x288 with 1 Axes>"
      ]
     },
     "metadata": {
      "needs_background": "light"
     },
     "output_type": "display_data"
    }
   ],
   "source": [
    "sns.distplot(edtech.number_of_instructors)"
   ]
  },
  {
   "cell_type": "code",
   "execution_count": 38,
   "id": "fee6e29b",
   "metadata": {},
   "outputs": [
    {
     "name": "stderr",
     "output_type": "stream",
     "text": [
      "C:\\Users\\sahil\\anaconda3\\lib\\site-packages\\seaborn\\distributions.py:2619: FutureWarning: `distplot` is a deprecated function and will be removed in a future version. Please adapt your code to use either `displot` (a figure-level function with similar flexibility) or `histplot` (an axes-level function for histograms).\n",
      "  warnings.warn(msg, FutureWarning)\n"
     ]
    },
    {
     "data": {
      "text/plain": [
       "<AxesSubplot:xlabel='Office_rent', ylabel='Density'>"
      ]
     },
     "execution_count": 38,
     "metadata": {},
     "output_type": "execute_result"
    },
    {
     "data": {
      "image/png": "[encoded data removed]",
      "text/plain": [
       "<Figure size 432x288 with 1 Axes>"
      ]
     },
     "metadata": {
      "needs_background": "light"
     },
     "output_type": "display_data"
    }
   ],
   "source": [
    "sns.distplot(edtech.Office_rent)"
   ]
  },
  {
   "cell_type": "code",
   "execution_count": 39,
   "id": "21466756",
   "metadata": {},
   "outputs": [
    {
     "name": "stderr",
     "output_type": "stream",
     "text": [
      "C:\\Users\\sahil\\anaconda3\\lib\\site-packages\\seaborn\\distributions.py:2619: FutureWarning: `distplot` is a deprecated function and will be removed in a future version. Please adapt your code to use either `displot` (a figure-level function with similar flexibility) or `histplot` (an axes-level function for histograms).\n",
      "  warnings.warn(msg, FutureWarning)\n"
     ]
    },
    {
     "data": {
      "text/plain": [
       "<AxesSubplot:xlabel='Office_electricity_charges', ylabel='Density'>"
      ]
     },
     "execution_count": 39,
     "metadata": {},
     "output_type": "execute_result"
    },
    {
     "data": {
      "image/png": "[encoded data removed]",
      "text/plain": [
       "<Figure size 432x288 with 1 Axes>"
      ]
     },
     "metadata": {
      "needs_background": "light"
     },
     "output_type": "display_data"
    }
   ],
   "source": [
    "sns.distplot(edtech.Office_electricity_charges)"
   ]
  },
  {
   "cell_type": "code",
   "execution_count": 40,
   "id": "12ed1a96",
   "metadata": {},
   "outputs": [
    {
     "name": "stderr",
     "output_type": "stream",
     "text": [
      "C:\\Users\\sahil\\anaconda3\\lib\\site-packages\\seaborn\\distributions.py:2619: FutureWarning: `distplot` is a deprecated function and will be removed in a future version. Please adapt your code to use either `displot` (a figure-level function with similar flexibility) or `histplot` (an axes-level function for histograms).\n",
      "  warnings.warn(msg, FutureWarning)\n"
     ]
    },
    {
     "data": {
      "text/plain": [
       "<AxesSubplot:xlabel='Misclleneous_expense', ylabel='Density'>"
      ]
     },
     "execution_count": 40,
     "metadata": {},
     "output_type": "execute_result"
    },
    {
     "data": {
      "image/png": "[encoded data removed]",
      "text/plain": [
       "<Figure size 432x288 with 1 Axes>"
      ]
     },
     "metadata": {
      "needs_background": "light"
     },
     "output_type": "display_data"
    }
   ],
   "source": [
    "sns.distplot(edtech.Misclleneous_expense)"
   ]
  },
  {
   "cell_type": "code",
   "execution_count": 41,
   "id": "e81ded9e",
   "metadata": {},
   "outputs": [
    {
     "name": "stderr",
     "output_type": "stream",
     "text": [
      "C:\\Users\\sahil\\anaconda3\\lib\\site-packages\\seaborn\\distributions.py:2619: FutureWarning: `distplot` is a deprecated function and will be removed in a future version. Please adapt your code to use either `displot` (a figure-level function with similar flexibility) or `histplot` (an axes-level function for histograms).\n",
      "  warnings.warn(msg, FutureWarning)\n"
     ]
    },
    {
     "data": {
      "text/plain": [
       "<AxesSubplot:xlabel='cost_of_acquisition', ylabel='Density'>"
      ]
     },
     "execution_count": 41,
     "metadata": {},
     "output_type": "execute_result"
    },
    {
     "data": {
      "image/png": "[encoded data removed]",
      "text/plain": [
       "<Figure size 432x288 with 1 Axes>"
      ]
     },
     "metadata": {
      "needs_background": "light"
     },
     "output_type": "display_data"
    }
   ],
   "source": [
    "sns.distplot(edtech.cost_of_acquisition)"
   ]
  },
  {
   "cell_type": "code",
   "execution_count": 42,
   "id": "d06ca1de",
   "metadata": {},
   "outputs": [
    {
     "name": "stderr",
     "output_type": "stream",
     "text": [
      "C:\\Users\\sahil\\anaconda3\\lib\\site-packages\\seaborn\\distributions.py:2619: FutureWarning: `distplot` is a deprecated function and will be removed in a future version. Please adapt your code to use either `displot` (a figure-level function with similar flexibility) or `histplot` (an axes-level function for histograms).\n",
      "  warnings.warn(msg, FutureWarning)\n"
     ]
    },
    {
     "data": {
      "text/plain": [
       "<AxesSubplot:xlabel='price', ylabel='Density'>"
      ]
     },
     "execution_count": 42,
     "metadata": {},
     "output_type": "execute_result"
    },
    {
     "data": {
      "image/png": "[encoded data removed]",
      "text/plain": [
       "<Figure size 432x288 with 1 Axes>"
      ]
     },
     "metadata": {
      "needs_background": "light"
     },
     "output_type": "display_data"
    }
   ],
   "source": [
    "sns.distplot(edtech.price)"
   ]
  },
  {
   "cell_type": "code",
   "execution_count": 43,
   "id": "345741a1",
   "metadata": {},
   "outputs": [
    {
     "name": "stderr",
     "output_type": "stream",
     "text": [
      "C:\\Users\\sahil\\anaconda3\\lib\\site-packages\\seaborn\\_decorators.py:36: FutureWarning: Pass the following variable as a keyword arg: x. From version 0.12, the only valid positional argument will be `data`, and passing other arguments without an explicit keyword will result in an error or misinterpretation.\n",
      "  warnings.warn(\n"
     ]
    },
    {
     "data": {
      "text/plain": [
       "<AxesSubplot:xlabel='number_of_instructors'>"
      ]
     },
     "execution_count": 43,
     "metadata": {},
     "output_type": "execute_result"
    },
    {
     "data": {
      "image/png": "[encoded data removed]",
      "text/plain": [
       "<Figure size 432x288 with 1 Axes>"
      ]
     },
     "metadata": {
      "needs_background": "light"
     },
     "output_type": "display_data"
    }
   ],
   "source": [
    "# checking for outliers\n",
    "\n",
    "sns.boxplot(edtech.number_of_instructors)"
   ]
  },
  {
   "cell_type": "code",
   "execution_count": 44,
   "id": "fe5e8753",
   "metadata": {},
   "outputs": [
    {
     "name": "stderr",
     "output_type": "stream",
     "text": [
      "C:\\Users\\sahil\\anaconda3\\lib\\site-packages\\seaborn\\_decorators.py:36: FutureWarning: Pass the following variable as a keyword arg: x. From version 0.12, the only valid positional argument will be `data`, and passing other arguments without an explicit keyword will result in an error or misinterpretation.\n",
      "  warnings.warn(\n"
     ]
    },
    {
     "data": {
      "text/plain": [
       "<AxesSubplot:xlabel='course_length'>"
      ]
     },
     "execution_count": 44,
     "metadata": {},
     "output_type": "execute_result"
    },
    {
     "data": {
      "image/png": "[encoded data removed]",
      "text/plain": [
       "<Figure size 432x288 with 1 Axes>"
      ]
     },
     "metadata": {
      "needs_background": "light"
     },
     "output_type": "display_data"
    }
   ],
   "source": [
    "sns.boxplot(edtech.course_length)"
   ]
  },
  {
   "cell_type": "code",
   "execution_count": 45,
   "id": "7604c404",
   "metadata": {},
   "outputs": [
    {
     "name": "stderr",
     "output_type": "stream",
     "text": [
      "C:\\Users\\sahil\\anaconda3\\lib\\site-packages\\seaborn\\_decorators.py:36: FutureWarning: Pass the following variable as a keyword arg: x. From version 0.12, the only valid positional argument will be `data`, and passing other arguments without an explicit keyword will result in an error or misinterpretation.\n",
      "  warnings.warn(\n"
     ]
    },
    {
     "data": {
      "text/plain": [
       "<AxesSubplot:xlabel='Office_rent'>"
      ]
     },
     "execution_count": 45,
     "metadata": {},
     "output_type": "execute_result"
    },
    {
     "data": {
      "image/png": "[encoded data removed]",
      "text/plain": [
       "<Figure size 432x288 with 1 Axes>"
      ]
     },
     "metadata": {
      "needs_background": "light"
     },
     "output_type": "display_data"
    }
   ],
   "source": [
    "sns.boxplot(edtech.Office_rent)"
   ]
  },
  {
   "cell_type": "code",
   "execution_count": 46,
   "id": "4bb38d9f",
   "metadata": {},
   "outputs": [
    {
     "data": {
      "text/plain": [
       "Index(['institute_brand_value', 'course_title', 'course_market',\n",
       "       'online_live_class', 'online_pre_recorded_sessions', 'Offiline_classes',\n",
       "       'state', 'instructors_grade', 'number_of_instructors', 'course_Level',\n",
       "       'course_length', 'support_Staff_required', 'cost_of_course_curricullum',\n",
       "       'study_material_cost', 'Office_rent', 'Infrastructure_cost',\n",
       "       'Office_electricity_charges', 'Misclleneous_expense',\n",
       "       'cost_of_acquisition', 'competition_level', 'certification',\n",
       "       'Placement', 'price'],\n",
       "      dtype='object')"
      ]
     },
     "execution_count": 46,
     "metadata": {},
     "output_type": "execute_result"
    }
   ],
   "source": [
    "edtech.columns"
   ]
  },
  {
   "cell_type": "code",
   "execution_count": 47,
   "id": "37c3aab0",
   "metadata": {},
   "outputs": [
    {
     "name": "stderr",
     "output_type": "stream",
     "text": [
      "C:\\Users\\sahil\\anaconda3\\lib\\site-packages\\seaborn\\_decorators.py:36: FutureWarning: Pass the following variable as a keyword arg: x. From version 0.12, the only valid positional argument will be `data`, and passing other arguments without an explicit keyword will result in an error or misinterpretation.\n",
      "  warnings.warn(\n"
     ]
    },
    {
     "data": {
      "text/plain": [
       "<AxesSubplot:xlabel='Office_electricity_charges'>"
      ]
     },
     "execution_count": 47,
     "metadata": {},
     "output_type": "execute_result"
    },
    {
     "data": {
      "image/png": "[encoded data removed]",
      "text/plain": [
       "<Figure size 432x288 with 1 Axes>"
      ]
     },
     "metadata": {
      "needs_background": "light"
     },
     "output_type": "display_data"
    }
   ],
   "source": [
    "sns.boxplot(edtech.Office_electricity_charges)"
   ]
  },
  {
   "cell_type": "code",
   "execution_count": 48,
   "id": "d6039c71",
   "metadata": {},
   "outputs": [
    {
     "name": "stderr",
     "output_type": "stream",
     "text": [
      "C:\\Users\\sahil\\anaconda3\\lib\\site-packages\\seaborn\\_decorators.py:36: FutureWarning: Pass the following variable as a keyword arg: x. From version 0.12, the only valid positional argument will be `data`, and passing other arguments without an explicit keyword will result in an error or misinterpretation.\n",
      "  warnings.warn(\n"
     ]
    },
    {
     "data": {
      "text/plain": [
       "<AxesSubplot:xlabel='Misclleneous_expense'>"
      ]
     },
     "execution_count": 48,
     "metadata": {},
     "output_type": "execute_result"
    },
    {
     "data": {
      "image/png": "[encoded data removed]",
      "text/plain": [
       "<Figure size 432x288 with 1 Axes>"
      ]
     },
     "metadata": {
      "needs_background": "light"
     },
     "output_type": "display_data"
    }
   ],
   "source": [
    "sns.boxplot(edtech.Misclleneous_expense)"
   ]
  },
  {
   "cell_type": "code",
   "execution_count": 49,
   "id": "eb842a15",
   "metadata": {},
   "outputs": [
    {
     "name": "stderr",
     "output_type": "stream",
     "text": [
      "C:\\Users\\sahil\\anaconda3\\lib\\site-packages\\seaborn\\_decorators.py:36: FutureWarning: Pass the following variable as a keyword arg: x. From version 0.12, the only valid positional argument will be `data`, and passing other arguments without an explicit keyword will result in an error or misinterpretation.\n",
      "  warnings.warn(\n"
     ]
    },
    {
     "data": {
      "text/plain": [
       "<AxesSubplot:xlabel='cost_of_acquisition'>"
      ]
     },
     "execution_count": 49,
     "metadata": {},
     "output_type": "execute_result"
    },
    {
     "data": {
      "image/png": "[encoded data removed]",
      "text/plain": [
       "<Figure size 432x288 with 1 Axes>"
      ]
     },
     "metadata": {
      "needs_background": "light"
     },
     "output_type": "display_data"
    }
   ],
   "source": [
    "sns.boxplot(edtech.cost_of_acquisition)"
   ]
  },
  {
   "cell_type": "code",
   "execution_count": 50,
   "id": "14126147",
   "metadata": {},
   "outputs": [
    {
     "name": "stderr",
     "output_type": "stream",
     "text": [
      "C:\\Users\\sahil\\anaconda3\\lib\\site-packages\\seaborn\\_decorators.py:36: FutureWarning: Pass the following variable as a keyword arg: x. From version 0.12, the only valid positional argument will be `data`, and passing other arguments without an explicit keyword will result in an error or misinterpretation.\n",
      "  warnings.warn(\n"
     ]
    },
    {
     "data": {
      "text/plain": [
       "<AxesSubplot:xlabel='price'>"
      ]
     },
     "execution_count": 50,
     "metadata": {},
     "output_type": "execute_result"
    },
    {
     "data": {
      "image/png": "[encoded data removed]",
      "text/plain": [
       "<Figure size 432x288 with 1 Axes>"
      ]
     },
     "metadata": {
      "needs_background": "light"
     },
     "output_type": "display_data"
    }
   ],
   "source": [
    "sns.boxplot(edtech.price)"
   ]
  },
  {
   "cell_type": "code",
   "execution_count": 51,
   "id": "0e58e613",
   "metadata": {},
   "outputs": [
    {
     "name": "stdout",
     "output_type": "stream",
     "text": [
      "Requirement already satisfied: feature_engine in c:\\users\\sahil\\anaconda3\\envs\\mynewenv\\lib\\site-packages (1.4.1)\n",
      "Requirement already satisfied: pandas>=1.0.3 in c:\\users\\sahil\\anaconda3\\envs\\mynewenv\\lib\\site-packages (from feature_engine) (1.4.3)\n",
      "Requirement already satisfied: scikit-learn>=1.0.0 in c:\\users\\sahil\\anaconda3\\envs\\mynewenv\\lib\\site-packages (from feature_engine) (1.1.1)\n",
      "Requirement already satisfied: scipy>=1.4.1 in c:\\users\\sahil\\appdata\\roaming\\python\\python39\\site-packages (from feature_engine) (1.5.4)\n",
      "Requirement already satisfied: numpy>=1.18.2 in c:\\users\\sahil\\anaconda3\\envs\\mynewenv\\lib\\site-packages (from feature_engine) (1.21.6)\n",
      "Requirement already satisfied: statsmodels>=0.11.1 in c:\\users\\sahil\\anaconda3\\envs\\mynewenv\\lib\\site-packages (from feature_engine) (0.13.2)\n",
      "Requirement already satisfied: pytz>=2020.1 in c:\\users\\sahil\\anaconda3\\envs\\mynewenv\\lib\\site-packages (from pandas>=1.0.3->feature_engine) (2022.1)\n",
      "Requirement already satisfied: python-dateutil>=2.8.1 in c:\\users\\sahil\\anaconda3\\envs\\mynewenv\\lib\\site-packages (from pandas>=1.0.3->feature_engine) (2.8.2)\n",
      "Requirement already satisfied: six>=1.5 in c:\\users\\sahil\\anaconda3\\envs\\mynewenv\\lib\\site-packages (from python-dateutil>=2.8.1->pandas>=1.0.3->feature_engine) (1.16.0)\n",
      "Requirement already satisfied: threadpoolctl>=2.0.0 in c:\\users\\sahil\\anaconda3\\envs\\mynewenv\\lib\\site-packages (from scikit-learn>=1.0.0->feature_engine) (3.1.0)\n",
      "Requirement already satisfied: joblib>=1.0.0 in c:\\users\\sahil\\anaconda3\\envs\\mynewenv\\lib\\site-packages (from scikit-learn>=1.0.0->feature_engine) (1.1.0)\n",
      "Requirement already satisfied: patsy>=0.5.2 in c:\\users\\sahil\\anaconda3\\envs\\mynewenv\\lib\\site-packages (from statsmodels>=0.11.1->feature_engine) (0.5.2)\n",
      "Requirement already satisfied: packaging>=21.3 in c:\\users\\sahil\\anaconda3\\envs\\mynewenv\\lib\\site-packages (from statsmodels>=0.11.1->feature_engine) (21.3)\n",
      "Requirement already satisfied: pyparsing!=3.0.5,>=2.0.2 in c:\\users\\sahil\\anaconda3\\envs\\mynewenv\\lib\\site-packages (from packaging>=21.3->statsmodels>=0.11.1->feature_engine) (3.0.9)\n"
     ]
    }
   ],
   "source": [
    "# Installing feature_engine library used to treat outliers\n",
    "!pip install feature_engine"
   ]
  },
  {
   "cell_type": "code",
   "execution_count": 52,
   "id": "437d48e2",
   "metadata": {},
   "outputs": [],
   "source": [
    "#removing outliers in course_length\n",
    "\n",
    "from feature_engine.outliers import Winsorizer"
   ]
  },
  {
   "cell_type": "code",
   "execution_count": 53,
   "id": "4011cb1d",
   "metadata": {},
   "outputs": [],
   "source": [
    "winsor = Winsorizer(capping_method='iqr', tail='both', fold=1.5, variables=['course_length'])"
   ]
  },
  {
   "cell_type": "code",
   "execution_count": 54,
   "id": "5454b3fb",
   "metadata": {},
   "outputs": [],
   "source": [
    "edtech.course_length = winsor.fit_transform(edtech[['course_length']])"
   ]
  },
  {
   "cell_type": "code",
   "execution_count": 55,
   "id": "d21ef9b6",
   "metadata": {},
   "outputs": [
    {
     "name": "stderr",
     "output_type": "stream",
     "text": [
      "C:\\Users\\sahil\\anaconda3\\lib\\site-packages\\seaborn\\_decorators.py:36: FutureWarning: Pass the following variable as a keyword arg: x. From version 0.12, the only valid positional argument will be `data`, and passing other arguments without an explicit keyword will result in an error or misinterpretation.\n",
      "  warnings.warn(\n"
     ]
    },
    {
     "data": {
      "text/plain": [
       "<AxesSubplot:xlabel='course_length'>"
      ]
     },
     "execution_count": 55,
     "metadata": {},
     "output_type": "execute_result"
    },
    {
     "data": {
      "image/png": "[encoded data removed]",
      "text/plain": [
       "<Figure size 432x288 with 1 Axes>"
      ]
     },
     "metadata": {
      "needs_background": "light"
     },
     "output_type": "display_data"
    }
   ],
   "source": [
    "sns.boxplot(edtech.course_length)"
   ]
  },
  {
   "cell_type": "code",
   "execution_count": 56,
   "id": "1d13778f",
   "metadata": {},
   "outputs": [],
   "source": [
    "# creating dummy variables for categorical data\n",
    "edtech = pd.get_dummies(edtech, columns=['course_title','course_market','online_live_class', 'online_pre_recorded_sessions', 'Offiline_classes','state','support_Staff_required','certification','Placement'],drop_first=True)"
   ]
  },
  {
   "cell_type": "code",
   "execution_count": 57,
   "id": "a100009e",
   "metadata": {},
   "outputs": [],
   "source": [
    "brand_value ={'High':1,'Low':0}\n",
    "instruct_grade = {'A':1,'B':0}\n",
    "cor_level = {'Advance':2,'Intermediate':1,'Beginners':0}\n",
    "cur_cost={'High':2,'Medium':1,'Low':0}\n",
    "infra_cost={'High':1,'Low':0}\n",
    "comp_level ={'High':2,'Medium':1,'Low':0}"
   ]
  },
  {
   "cell_type": "code",
   "execution_count": 58,
   "id": "77d1a0e5",
   "metadata": {},
   "outputs": [
    {
     "data": {
      "text/plain": [
       "Index(['institute_brand_value', 'instructors_grade', 'number_of_instructors',\n",
       "       'course_Level', 'course_length', 'cost_of_course_curricullum',\n",
       "       'study_material_cost', 'Office_rent', 'Infrastructure_cost',\n",
       "       'Office_electricity_charges', 'Misclleneous_expense',\n",
       "       'cost_of_acquisition', 'competition_level', 'price',\n",
       "       'course_title_Data_Science', 'course_title_Tableau',\n",
       "       'course_market_School', 'course_market_student',\n",
       "       'online_live_class_Yes', 'online_pre_recorded_sessions_Yes',\n",
       "       'Offiline_classes_Yes', 'state_Hyderabad', 'support_Staff_required_Yes',\n",
       "       'certification_Yes', 'Placement_Yes'],\n",
       "      dtype='object')"
      ]
     },
     "execution_count": 58,
     "metadata": {},
     "output_type": "execute_result"
    }
   ],
   "source": [
    "edtech.columns"
   ]
  },
  {
   "cell_type": "code",
   "execution_count": 59,
   "id": "a1b8da20",
   "metadata": {},
   "outputs": [],
   "source": [
    "# Assigning numerical values\n",
    "edtech['institute_brand_value'] = edtech.institute_brand_value.map(brand_value)\n",
    "edtech['instructors_grade']=edtech.instructors_grade.map(instruct_grade)\n",
    "edtech['course_Level']=edtech.course_Level.map(cor_level)\n",
    "edtech['cost_of_course_curricullum']=edtech.cost_of_course_curricullum.map(cur_cost)\n",
    "edtech['Infrastructure_cost']=edtech.Infrastructure_cost.map(infra_cost)\n",
    "edtech['competition_level']=edtech.competition_level.map(comp_level)"
   ]
  },
  {
   "cell_type": "code",
   "execution_count": 60,
   "id": "58135437",
   "metadata": {},
   "outputs": [
    {
     "data": {
      "text/html": [
       "<div>\n",
       "<style scoped>\n",
       "    .dataframe tbody tr th:only-of-type {\n",
       "        vertical-align: middle;\n",
       "    }\n",
       "\n",
       "    .dataframe tbody tr th {\n",
       "        vertical-align: top;\n",
       "    }\n",
       "\n",
       "    .dataframe thead th {\n",
       "        text-align: right;\n",
       "    }\n",
       "</style>\n",
       "<table border=\"1\" class=\"dataframe\">\n",
       "  <thead>\n",
       "    <tr style=\"text-align: right;\">\n",
       "      <th></th>\n",
       "      <th>institute_brand_value</th>\n",
       "      <th>instructors_grade</th>\n",
       "      <th>number_of_instructors</th>\n",
       "      <th>course_Level</th>\n",
       "      <th>course_length</th>\n",
       "      <th>cost_of_course_curricullum</th>\n",
       "      <th>study_material_cost</th>\n",
       "      <th>Office_rent</th>\n",
       "      <th>Infrastructure_cost</th>\n",
       "      <th>Office_electricity_charges</th>\n",
       "      <th>Misclleneous_expense</th>\n",
       "      <th>cost_of_acquisition</th>\n",
       "      <th>competition_level</th>\n",
       "      <th>price</th>\n",
       "      <th>course_title_Data_Science</th>\n",
       "      <th>course_title_Tableau</th>\n",
       "      <th>course_market_School</th>\n",
       "      <th>course_market_student</th>\n",
       "      <th>online_live_class_Yes</th>\n",
       "      <th>online_pre_recorded_sessions_Yes</th>\n",
       "      <th>Offiline_classes_Yes</th>\n",
       "      <th>state_Hyderabad</th>\n",
       "      <th>support_Staff_required_Yes</th>\n",
       "      <th>certification_Yes</th>\n",
       "      <th>Placement_Yes</th>\n",
       "    </tr>\n",
       "  </thead>\n",
       "  <tbody>\n",
       "    <tr>\n",
       "      <th>0</th>\n",
       "      <td>1</td>\n",
       "      <td>0</td>\n",
       "      <td>1</td>\n",
       "      <td>2</td>\n",
       "      <td>80.0</td>\n",
       "      <td>0</td>\n",
       "      <td>0</td>\n",
       "      <td>20000</td>\n",
       "      <td>0</td>\n",
       "      <td>2200</td>\n",
       "      <td>1000</td>\n",
       "      <td>400</td>\n",
       "      <td>2</td>\n",
       "      <td>15000</td>\n",
       "      <td>0</td>\n",
       "      <td>1</td>\n",
       "      <td>0</td>\n",
       "      <td>1</td>\n",
       "      <td>1</td>\n",
       "      <td>1</td>\n",
       "      <td>0</td>\n",
       "      <td>1</td>\n",
       "      <td>0</td>\n",
       "      <td>1</td>\n",
       "      <td>1</td>\n",
       "    </tr>\n",
       "    <tr>\n",
       "      <th>1</th>\n",
       "      <td>0</td>\n",
       "      <td>1</td>\n",
       "      <td>1</td>\n",
       "      <td>2</td>\n",
       "      <td>80.0</td>\n",
       "      <td>0</td>\n",
       "      <td>0</td>\n",
       "      <td>20000</td>\n",
       "      <td>1</td>\n",
       "      <td>6000</td>\n",
       "      <td>1500</td>\n",
       "      <td>800</td>\n",
       "      <td>2</td>\n",
       "      <td>14500</td>\n",
       "      <td>0</td>\n",
       "      <td>1</td>\n",
       "      <td>0</td>\n",
       "      <td>1</td>\n",
       "      <td>1</td>\n",
       "      <td>1</td>\n",
       "      <td>0</td>\n",
       "      <td>1</td>\n",
       "      <td>1</td>\n",
       "      <td>1</td>\n",
       "      <td>1</td>\n",
       "    </tr>\n",
       "    <tr>\n",
       "      <th>2</th>\n",
       "      <td>0</td>\n",
       "      <td>0</td>\n",
       "      <td>2</td>\n",
       "      <td>2</td>\n",
       "      <td>180.0</td>\n",
       "      <td>2</td>\n",
       "      <td>0</td>\n",
       "      <td>25000</td>\n",
       "      <td>0</td>\n",
       "      <td>4200</td>\n",
       "      <td>1500</td>\n",
       "      <td>2200</td>\n",
       "      <td>2</td>\n",
       "      <td>24900</td>\n",
       "      <td>1</td>\n",
       "      <td>0</td>\n",
       "      <td>0</td>\n",
       "      <td>1</td>\n",
       "      <td>1</td>\n",
       "      <td>1</td>\n",
       "      <td>0</td>\n",
       "      <td>0</td>\n",
       "      <td>1</td>\n",
       "      <td>1</td>\n",
       "      <td>1</td>\n",
       "    </tr>\n",
       "    <tr>\n",
       "      <th>3</th>\n",
       "      <td>0</td>\n",
       "      <td>0</td>\n",
       "      <td>2</td>\n",
       "      <td>2</td>\n",
       "      <td>180.0</td>\n",
       "      <td>2</td>\n",
       "      <td>0</td>\n",
       "      <td>25000</td>\n",
       "      <td>0</td>\n",
       "      <td>4200</td>\n",
       "      <td>1500</td>\n",
       "      <td>2200</td>\n",
       "      <td>2</td>\n",
       "      <td>24700</td>\n",
       "      <td>1</td>\n",
       "      <td>0</td>\n",
       "      <td>0</td>\n",
       "      <td>1</td>\n",
       "      <td>1</td>\n",
       "      <td>1</td>\n",
       "      <td>0</td>\n",
       "      <td>0</td>\n",
       "      <td>1</td>\n",
       "      <td>1</td>\n",
       "      <td>1</td>\n",
       "    </tr>\n",
       "    <tr>\n",
       "      <th>4</th>\n",
       "      <td>0</td>\n",
       "      <td>0</td>\n",
       "      <td>1</td>\n",
       "      <td>1</td>\n",
       "      <td>140.0</td>\n",
       "      <td>2</td>\n",
       "      <td>3500</td>\n",
       "      <td>70000</td>\n",
       "      <td>0</td>\n",
       "      <td>15000</td>\n",
       "      <td>5000</td>\n",
       "      <td>800</td>\n",
       "      <td>0</td>\n",
       "      <td>44040</td>\n",
       "      <td>1</td>\n",
       "      <td>0</td>\n",
       "      <td>0</td>\n",
       "      <td>0</td>\n",
       "      <td>0</td>\n",
       "      <td>0</td>\n",
       "      <td>1</td>\n",
       "      <td>0</td>\n",
       "      <td>0</td>\n",
       "      <td>0</td>\n",
       "      <td>1</td>\n",
       "    </tr>\n",
       "    <tr>\n",
       "      <th>...</th>\n",
       "      <td>...</td>\n",
       "      <td>...</td>\n",
       "      <td>...</td>\n",
       "      <td>...</td>\n",
       "      <td>...</td>\n",
       "      <td>...</td>\n",
       "      <td>...</td>\n",
       "      <td>...</td>\n",
       "      <td>...</td>\n",
       "      <td>...</td>\n",
       "      <td>...</td>\n",
       "      <td>...</td>\n",
       "      <td>...</td>\n",
       "      <td>...</td>\n",
       "      <td>...</td>\n",
       "      <td>...</td>\n",
       "      <td>...</td>\n",
       "      <td>...</td>\n",
       "      <td>...</td>\n",
       "      <td>...</td>\n",
       "      <td>...</td>\n",
       "      <td>...</td>\n",
       "      <td>...</td>\n",
       "      <td>...</td>\n",
       "      <td>...</td>\n",
       "    </tr>\n",
       "    <tr>\n",
       "      <th>245</th>\n",
       "      <td>0</td>\n",
       "      <td>1</td>\n",
       "      <td>1</td>\n",
       "      <td>0</td>\n",
       "      <td>80.0</td>\n",
       "      <td>0</td>\n",
       "      <td>1200</td>\n",
       "      <td>20000</td>\n",
       "      <td>0</td>\n",
       "      <td>15000</td>\n",
       "      <td>3500</td>\n",
       "      <td>600</td>\n",
       "      <td>0</td>\n",
       "      <td>9500</td>\n",
       "      <td>0</td>\n",
       "      <td>1</td>\n",
       "      <td>0</td>\n",
       "      <td>0</td>\n",
       "      <td>0</td>\n",
       "      <td>0</td>\n",
       "      <td>1</td>\n",
       "      <td>0</td>\n",
       "      <td>0</td>\n",
       "      <td>0</td>\n",
       "      <td>0</td>\n",
       "    </tr>\n",
       "    <tr>\n",
       "      <th>246</th>\n",
       "      <td>0</td>\n",
       "      <td>0</td>\n",
       "      <td>2</td>\n",
       "      <td>2</td>\n",
       "      <td>180.0</td>\n",
       "      <td>2</td>\n",
       "      <td>4000</td>\n",
       "      <td>50000</td>\n",
       "      <td>1</td>\n",
       "      <td>18000</td>\n",
       "      <td>5000</td>\n",
       "      <td>2600</td>\n",
       "      <td>1</td>\n",
       "      <td>30000</td>\n",
       "      <td>1</td>\n",
       "      <td>0</td>\n",
       "      <td>0</td>\n",
       "      <td>1</td>\n",
       "      <td>1</td>\n",
       "      <td>1</td>\n",
       "      <td>1</td>\n",
       "      <td>1</td>\n",
       "      <td>1</td>\n",
       "      <td>1</td>\n",
       "      <td>1</td>\n",
       "    </tr>\n",
       "    <tr>\n",
       "      <th>247</th>\n",
       "      <td>1</td>\n",
       "      <td>1</td>\n",
       "      <td>3</td>\n",
       "      <td>2</td>\n",
       "      <td>170.0</td>\n",
       "      <td>2</td>\n",
       "      <td>6000</td>\n",
       "      <td>50000</td>\n",
       "      <td>1</td>\n",
       "      <td>18000</td>\n",
       "      <td>6600</td>\n",
       "      <td>1760</td>\n",
       "      <td>1</td>\n",
       "      <td>57500</td>\n",
       "      <td>0</td>\n",
       "      <td>0</td>\n",
       "      <td>0</td>\n",
       "      <td>1</td>\n",
       "      <td>0</td>\n",
       "      <td>1</td>\n",
       "      <td>1</td>\n",
       "      <td>1</td>\n",
       "      <td>1</td>\n",
       "      <td>1</td>\n",
       "      <td>1</td>\n",
       "    </tr>\n",
       "    <tr>\n",
       "      <th>248</th>\n",
       "      <td>0</td>\n",
       "      <td>0</td>\n",
       "      <td>1</td>\n",
       "      <td>1</td>\n",
       "      <td>140.0</td>\n",
       "      <td>2</td>\n",
       "      <td>3500</td>\n",
       "      <td>50000</td>\n",
       "      <td>0</td>\n",
       "      <td>18000</td>\n",
       "      <td>5000</td>\n",
       "      <td>720</td>\n",
       "      <td>1</td>\n",
       "      <td>42800</td>\n",
       "      <td>1</td>\n",
       "      <td>0</td>\n",
       "      <td>0</td>\n",
       "      <td>0</td>\n",
       "      <td>1</td>\n",
       "      <td>0</td>\n",
       "      <td>1</td>\n",
       "      <td>1</td>\n",
       "      <td>0</td>\n",
       "      <td>0</td>\n",
       "      <td>1</td>\n",
       "    </tr>\n",
       "    <tr>\n",
       "      <th>249</th>\n",
       "      <td>1</td>\n",
       "      <td>0</td>\n",
       "      <td>1</td>\n",
       "      <td>1</td>\n",
       "      <td>80.0</td>\n",
       "      <td>0</td>\n",
       "      <td>0</td>\n",
       "      <td>20000</td>\n",
       "      <td>0</td>\n",
       "      <td>2200</td>\n",
       "      <td>1500</td>\n",
       "      <td>200</td>\n",
       "      <td>0</td>\n",
       "      <td>12000</td>\n",
       "      <td>0</td>\n",
       "      <td>1</td>\n",
       "      <td>0</td>\n",
       "      <td>0</td>\n",
       "      <td>0</td>\n",
       "      <td>1</td>\n",
       "      <td>0</td>\n",
       "      <td>1</td>\n",
       "      <td>0</td>\n",
       "      <td>1</td>\n",
       "      <td>0</td>\n",
       "    </tr>\n",
       "  </tbody>\n",
       "</table>\n",
       "<p>237 rows × 25 columns</p>\n",
       "</div>"
      ],
      "text/plain": [
       "     institute_brand_value  instructors_grade  number_of_instructors  \\\n",
       "0                        1                  0                      1   \n",
       "1                        0                  1                      1   \n",
       "2                        0                  0                      2   \n",
       "3                        0                  0                      2   \n",
       "4                        0                  0                      1   \n",
       "..                     ...                ...                    ...   \n",
       "245                      0                  1                      1   \n",
       "246                      0                  0                      2   \n",
       "247                      1                  1                      3   \n",
       "248                      0                  0                      1   \n",
       "249                      1                  0                      1   \n",
       "\n",
       "     course_Level  course_length  cost_of_course_curricullum  \\\n",
       "0               2           80.0                           0   \n",
       "1               2           80.0                           0   \n",
       "2               2          180.0                           2   \n",
       "3               2          180.0                           2   \n",
       "4               1          140.0                           2   \n",
       "..            ...            ...                         ...   \n",
       "245             0           80.0                           0   \n",
       "246             2          180.0                           2   \n",
       "247             2          170.0                           2   \n",
       "248             1          140.0                           2   \n",
       "249             1           80.0                           0   \n",
       "\n",
       "     study_material_cost  Office_rent  Infrastructure_cost  \\\n",
       "0                      0        20000                    0   \n",
       "1                      0        20000                    1   \n",
       "2                      0        25000                    0   \n",
       "3                      0        25000                    0   \n",
       "4                   3500        70000                    0   \n",
       "..                   ...          ...                  ...   \n",
       "245                 1200        20000                    0   \n",
       "246                 4000        50000                    1   \n",
       "247                 6000        50000                    1   \n",
       "248                 3500        50000                    0   \n",
       "249                    0        20000                    0   \n",
       "\n",
       "     Office_electricity_charges  Misclleneous_expense  cost_of_acquisition  \\\n",
       "0                          2200                  1000                  400   \n",
       "1                          6000                  1500                  800   \n",
       "2                          4200                  1500                 2200   \n",
       "3                          4200                  1500                 2200   \n",
       "4                         15000                  5000                  800   \n",
       "..                          ...                   ...                  ...   \n",
       "245                       15000                  3500                  600   \n",
       "246                       18000                  5000                 2600   \n",
       "247                       18000                  6600                 1760   \n",
       "248                       18000                  5000                  720   \n",
       "249                        2200                  1500                  200   \n",
       "\n",
       "     competition_level  price  course_title_Data_Science  \\\n",
       "0                    2  15000                          0   \n",
       "1                    2  14500                          0   \n",
       "2                    2  24900                          1   \n",
       "3                    2  24700                          1   \n",
       "4                    0  44040                          1   \n",
       "..                 ...    ...                        ...   \n",
       "245                  0   9500                          0   \n",
       "246                  1  30000                          1   \n",
       "247                  1  57500                          0   \n",
       "248                  1  42800                          1   \n",
       "249                  0  12000                          0   \n",
       "\n",
       "     course_title_Tableau  course_market_School  course_market_student  \\\n",
       "0                       1                     0                      1   \n",
       "1                       1                     0                      1   \n",
       "2                       0                     0                      1   \n",
       "3                       0                     0                      1   \n",
       "4                       0                     0                      0   \n",
       "..                    ...                   ...                    ...   \n",
       "245                     1                     0                      0   \n",
       "246                     0                     0                      1   \n",
       "247                     0                     0                      1   \n",
       "248                     0                     0                      0   \n",
       "249                     1                     0                      0   \n",
       "\n",
       "     online_live_class_Yes  online_pre_recorded_sessions_Yes  \\\n",
       "0                        1                                 1   \n",
       "1                        1                                 1   \n",
       "2                        1                                 1   \n",
       "3                        1                                 1   \n",
       "4                        0                                 0   \n",
       "..                     ...                               ...   \n",
       "245                      0                                 0   \n",
       "246                      1                                 1   \n",
       "247                      0                                 1   \n",
       "248                      1                                 0   \n",
       "249                      0                                 1   \n",
       "\n",
       "     Offiline_classes_Yes  state_Hyderabad  support_Staff_required_Yes  \\\n",
       "0                       0                1                           0   \n",
       "1                       0                1                           1   \n",
       "2                       0                0                           1   \n",
       "3                       0                0                           1   \n",
       "4                       1                0                           0   \n",
       "..                    ...              ...                         ...   \n",
       "245                     1                0                           0   \n",
       "246                     1                1                           1   \n",
       "247                     1                1                           1   \n",
       "248                     1                1                           0   \n",
       "249                     0                1                           0   \n",
       "\n",
       "     certification_Yes  Placement_Yes  \n",
       "0                    1              1  \n",
       "1                    1              1  \n",
       "2                    1              1  \n",
       "3                    1              1  \n",
       "4                    0              1  \n",
       "..                 ...            ...  \n",
       "245                  0              0  \n",
       "246                  1              1  \n",
       "247                  1              1  \n",
       "248                  0              1  \n",
       "249                  1              0  \n",
       "\n",
       "[237 rows x 25 columns]"
      ]
     },
     "execution_count": 60,
     "metadata": {},
     "output_type": "execute_result"
    }
   ],
   "source": [
    "# To show all the columns at once\n",
    "pd.set_option('display.max_columns', None)\n",
    "edtech"
   ]
  },
  {
   "cell_type": "code",
   "execution_count": 61,
   "id": "d4302726",
   "metadata": {},
   "outputs": [],
   "source": [
    "# seperating target variable and predictors\n",
    "x=edtech.drop(columns=['price'], axis=1)"
   ]
  },
  {
   "cell_type": "code",
   "execution_count": 62,
   "id": "0b77e246",
   "metadata": {},
   "outputs": [],
   "source": [
    "y=edtech.price"
   ]
  },
  {
   "cell_type": "code",
   "execution_count": 63,
   "id": "1f7ffe14",
   "metadata": {},
   "outputs": [],
   "source": [
    "# Normalization\n",
    "\n",
    "def norn_func(i):\n",
    "    x= (i- i.min())/(i.max()-i.min())\n",
    "    return(x)"
   ]
  },
  {
   "cell_type": "code",
   "execution_count": 64,
   "id": "184ac612",
   "metadata": {},
   "outputs": [],
   "source": [
    "# Applying normalization so that data can be on same scale\n",
    "x_norm= norn_func(x)"
   ]
  },
  {
   "cell_type": "code",
   "execution_count": 65,
   "id": "91354761",
   "metadata": {},
   "outputs": [],
   "source": [
    "df= pd.concat([x_norm,y], axis=1)"
   ]
  },
  {
   "cell_type": "code",
   "execution_count": 66,
   "id": "4f270cc2",
   "metadata": {},
   "outputs": [
    {
     "data": {
      "text/html": [
       "<div>\n",
       "<style scoped>\n",
       "    .dataframe tbody tr th:only-of-type {\n",
       "        vertical-align: middle;\n",
       "    }\n",
       "\n",
       "    .dataframe tbody tr th {\n",
       "        vertical-align: top;\n",
       "    }\n",
       "\n",
       "    .dataframe thead th {\n",
       "        text-align: right;\n",
       "    }\n",
       "</style>\n",
       "<table border=\"1\" class=\"dataframe\">\n",
       "  <thead>\n",
       "    <tr style=\"text-align: right;\">\n",
       "      <th></th>\n",
       "      <th>institute_brand_value</th>\n",
       "      <th>instructors_grade</th>\n",
       "      <th>number_of_instructors</th>\n",
       "      <th>course_Level</th>\n",
       "      <th>course_length</th>\n",
       "      <th>cost_of_course_curricullum</th>\n",
       "      <th>study_material_cost</th>\n",
       "      <th>Office_rent</th>\n",
       "      <th>Infrastructure_cost</th>\n",
       "      <th>Office_electricity_charges</th>\n",
       "      <th>Misclleneous_expense</th>\n",
       "      <th>cost_of_acquisition</th>\n",
       "      <th>competition_level</th>\n",
       "      <th>course_title_Data_Science</th>\n",
       "      <th>course_title_Tableau</th>\n",
       "      <th>course_market_School</th>\n",
       "      <th>course_market_student</th>\n",
       "      <th>online_live_class_Yes</th>\n",
       "      <th>online_pre_recorded_sessions_Yes</th>\n",
       "      <th>Offiline_classes_Yes</th>\n",
       "      <th>state_Hyderabad</th>\n",
       "      <th>support_Staff_required_Yes</th>\n",
       "      <th>certification_Yes</th>\n",
       "      <th>Placement_Yes</th>\n",
       "      <th>price</th>\n",
       "    </tr>\n",
       "  </thead>\n",
       "  <tbody>\n",
       "    <tr>\n",
       "      <th>0</th>\n",
       "      <td>1.0</td>\n",
       "      <td>0.0</td>\n",
       "      <td>0.0</td>\n",
       "      <td>1.0</td>\n",
       "      <td>0.000</td>\n",
       "      <td>0.0</td>\n",
       "      <td>0.000000</td>\n",
       "      <td>0.0</td>\n",
       "      <td>0.0</td>\n",
       "      <td>0.024691</td>\n",
       "      <td>0.000000</td>\n",
       "      <td>0.071429</td>\n",
       "      <td>1.0</td>\n",
       "      <td>0.0</td>\n",
       "      <td>1.0</td>\n",
       "      <td>0.0</td>\n",
       "      <td>1.0</td>\n",
       "      <td>1.0</td>\n",
       "      <td>1.0</td>\n",
       "      <td>0.0</td>\n",
       "      <td>1.0</td>\n",
       "      <td>0.0</td>\n",
       "      <td>1.0</td>\n",
       "      <td>1.0</td>\n",
       "      <td>15000</td>\n",
       "    </tr>\n",
       "    <tr>\n",
       "      <th>1</th>\n",
       "      <td>0.0</td>\n",
       "      <td>1.0</td>\n",
       "      <td>0.0</td>\n",
       "      <td>1.0</td>\n",
       "      <td>0.000</td>\n",
       "      <td>0.0</td>\n",
       "      <td>0.000000</td>\n",
       "      <td>0.0</td>\n",
       "      <td>1.0</td>\n",
       "      <td>0.259259</td>\n",
       "      <td>0.089286</td>\n",
       "      <td>0.214286</td>\n",
       "      <td>1.0</td>\n",
       "      <td>0.0</td>\n",
       "      <td>1.0</td>\n",
       "      <td>0.0</td>\n",
       "      <td>1.0</td>\n",
       "      <td>1.0</td>\n",
       "      <td>1.0</td>\n",
       "      <td>0.0</td>\n",
       "      <td>1.0</td>\n",
       "      <td>1.0</td>\n",
       "      <td>1.0</td>\n",
       "      <td>1.0</td>\n",
       "      <td>14500</td>\n",
       "    </tr>\n",
       "    <tr>\n",
       "      <th>2</th>\n",
       "      <td>0.0</td>\n",
       "      <td>0.0</td>\n",
       "      <td>0.5</td>\n",
       "      <td>1.0</td>\n",
       "      <td>0.625</td>\n",
       "      <td>1.0</td>\n",
       "      <td>0.000000</td>\n",
       "      <td>0.1</td>\n",
       "      <td>0.0</td>\n",
       "      <td>0.148148</td>\n",
       "      <td>0.089286</td>\n",
       "      <td>0.714286</td>\n",
       "      <td>1.0</td>\n",
       "      <td>1.0</td>\n",
       "      <td>0.0</td>\n",
       "      <td>0.0</td>\n",
       "      <td>1.0</td>\n",
       "      <td>1.0</td>\n",
       "      <td>1.0</td>\n",
       "      <td>0.0</td>\n",
       "      <td>0.0</td>\n",
       "      <td>1.0</td>\n",
       "      <td>1.0</td>\n",
       "      <td>1.0</td>\n",
       "      <td>24900</td>\n",
       "    </tr>\n",
       "    <tr>\n",
       "      <th>3</th>\n",
       "      <td>0.0</td>\n",
       "      <td>0.0</td>\n",
       "      <td>0.5</td>\n",
       "      <td>1.0</td>\n",
       "      <td>0.625</td>\n",
       "      <td>1.0</td>\n",
       "      <td>0.000000</td>\n",
       "      <td>0.1</td>\n",
       "      <td>0.0</td>\n",
       "      <td>0.148148</td>\n",
       "      <td>0.089286</td>\n",
       "      <td>0.714286</td>\n",
       "      <td>1.0</td>\n",
       "      <td>1.0</td>\n",
       "      <td>0.0</td>\n",
       "      <td>0.0</td>\n",
       "      <td>1.0</td>\n",
       "      <td>1.0</td>\n",
       "      <td>1.0</td>\n",
       "      <td>0.0</td>\n",
       "      <td>0.0</td>\n",
       "      <td>1.0</td>\n",
       "      <td>1.0</td>\n",
       "      <td>1.0</td>\n",
       "      <td>24700</td>\n",
       "    </tr>\n",
       "    <tr>\n",
       "      <th>4</th>\n",
       "      <td>0.0</td>\n",
       "      <td>0.0</td>\n",
       "      <td>0.0</td>\n",
       "      <td>0.5</td>\n",
       "      <td>0.375</td>\n",
       "      <td>1.0</td>\n",
       "      <td>0.583333</td>\n",
       "      <td>1.0</td>\n",
       "      <td>0.0</td>\n",
       "      <td>0.814815</td>\n",
       "      <td>0.714286</td>\n",
       "      <td>0.214286</td>\n",
       "      <td>0.0</td>\n",
       "      <td>1.0</td>\n",
       "      <td>0.0</td>\n",
       "      <td>0.0</td>\n",
       "      <td>0.0</td>\n",
       "      <td>0.0</td>\n",
       "      <td>0.0</td>\n",
       "      <td>1.0</td>\n",
       "      <td>0.0</td>\n",
       "      <td>0.0</td>\n",
       "      <td>0.0</td>\n",
       "      <td>1.0</td>\n",
       "      <td>44040</td>\n",
       "    </tr>\n",
       "  </tbody>\n",
       "</table>\n",
       "</div>"
      ],
      "text/plain": [
       "   institute_brand_value  instructors_grade  number_of_instructors  \\\n",
       "0                    1.0                0.0                    0.0   \n",
       "1                    0.0                1.0                    0.0   \n",
       "2                    0.0                0.0                    0.5   \n",
       "3                    0.0                0.0                    0.5   \n",
       "4                    0.0                0.0                    0.0   \n",
       "\n",
       "   course_Level  course_length  cost_of_course_curricullum  \\\n",
       "0           1.0          0.000                         0.0   \n",
       "1           1.0          0.000                         0.0   \n",
       "2           1.0          0.625                         1.0   \n",
       "3           1.0          0.625                         1.0   \n",
       "4           0.5          0.375                         1.0   \n",
       "\n",
       "   study_material_cost  Office_rent  Infrastructure_cost  \\\n",
       "0             0.000000          0.0                  0.0   \n",
       "1             0.000000          0.0                  1.0   \n",
       "2             0.000000          0.1                  0.0   \n",
       "3             0.000000          0.1                  0.0   \n",
       "4             0.583333          1.0                  0.0   \n",
       "\n",
       "   Office_electricity_charges  Misclleneous_expense  cost_of_acquisition  \\\n",
       "0                    0.024691              0.000000             0.071429   \n",
       "1                    0.259259              0.089286             0.214286   \n",
       "2                    0.148148              0.089286             0.714286   \n",
       "3                    0.148148              0.089286             0.714286   \n",
       "4                    0.814815              0.714286             0.214286   \n",
       "\n",
       "   competition_level  course_title_Data_Science  course_title_Tableau  \\\n",
       "0                1.0                        0.0                   1.0   \n",
       "1                1.0                        0.0                   1.0   \n",
       "2                1.0                        1.0                   0.0   \n",
       "3                1.0                        1.0                   0.0   \n",
       "4                0.0                        1.0                   0.0   \n",
       "\n",
       "   course_market_School  course_market_student  online_live_class_Yes  \\\n",
       "0                   0.0                    1.0                    1.0   \n",
       "1                   0.0                    1.0                    1.0   \n",
       "2                   0.0                    1.0                    1.0   \n",
       "3                   0.0                    1.0                    1.0   \n",
       "4                   0.0                    0.0                    0.0   \n",
       "\n",
       "   online_pre_recorded_sessions_Yes  Offiline_classes_Yes  state_Hyderabad  \\\n",
       "0                               1.0                   0.0              1.0   \n",
       "1                               1.0                   0.0              1.0   \n",
       "2                               1.0                   0.0              0.0   \n",
       "3                               1.0                   0.0              0.0   \n",
       "4                               0.0                   1.0              0.0   \n",
       "\n",
       "   support_Staff_required_Yes  certification_Yes  Placement_Yes  price  \n",
       "0                         0.0                1.0            1.0  15000  \n",
       "1                         1.0                1.0            1.0  14500  \n",
       "2                         1.0                1.0            1.0  24900  \n",
       "3                         1.0                1.0            1.0  24700  \n",
       "4                         0.0                0.0            1.0  44040  "
      ]
     },
     "execution_count": 66,
     "metadata": {},
     "output_type": "execute_result"
    }
   ],
   "source": [
    "df.head()"
   ]
  },
  {
   "cell_type": "code",
   "execution_count": 67,
   "id": "f1e73bd5",
   "metadata": {},
   "outputs": [
    {
     "name": "stdout",
     "output_type": "stream",
     "text": [
      "Requirement already satisfied: pycaret in c:\\users\\sahil\\appdata\\roaming\\python\\python39\\site-packages (3.0.0rc2)Note: you may need to restart the kernel to use updated packages.\n",
      "\n",
      "Requirement already satisfied: numpy~=1.21 in c:\\users\\sahil\\anaconda3\\lib\\site-packages (from pycaret) (1.21.5)\n",
      "Requirement already satisfied: pyod>=0.9.8 in c:\\users\\sahil\\appdata\\roaming\\python\\python39\\site-packages (from pycaret) (1.0.3)\n",
      "Requirement already satisfied: joblib>=1.1.0 in c:\\users\\sahil\\anaconda3\\lib\\site-packages (from pycaret) (1.1.0)\n",
      "Requirement already satisfied: jinja2>=1.2 in c:\\users\\sahil\\anaconda3\\lib\\site-packages (from pycaret) (2.11.3)\n",
      "Requirement already satisfied: category-encoders>=2.4.0 in c:\\users\\sahil\\appdata\\roaming\\python\\python39\\site-packages (from pycaret) (2.5.0)\n",
      "Requirement already satisfied: numba~=0.55.0 in c:\\users\\sahil\\anaconda3\\lib\\site-packages (from pycaret) (0.55.1)\n",
      "Requirement already satisfied: imbalanced-learn>=0.8.1 in c:\\users\\sahil\\appdata\\roaming\\python\\python39\\site-packages (from pycaret) (0.9.1)\n",
      "Requirement already satisfied: pandas<1.5.0,>=1.3.0 in c:\\users\\sahil\\anaconda3\\lib\\site-packages (from pycaret) (1.4.2)\n",
      "Requirement already satisfied: tbats>=1.1.0 in c:\\users\\sahil\\appdata\\roaming\\python\\python39\\site-packages (from pycaret) (1.1.0)\n",
      "Requirement already satisfied: pmdarima>=1.8.0 in c:\\users\\sahil\\appdata\\roaming\\python\\python39\\site-packages (from pycaret) (1.8.5)\n",
      "Requirement already satisfied: sktime>=0.11.4 in c:\\users\\sahil\\appdata\\roaming\\python\\python39\\site-packages (from pycaret) (0.12.1)\n",
      "Requirement already satisfied: scipy<1.9.0 in c:\\users\\sahil\\appdata\\roaming\\python\\python39\\site-packages (from pycaret) (1.5.4)\n",
      "Requirement already satisfied: scikit-plot>=0.3.7 in c:\\users\\sahil\\appdata\\roaming\\python\\python39\\site-packages (from pycaret) (0.3.7)\n",
      "Requirement already satisfied: requests>=2.27.1 in c:\\users\\sahil\\anaconda3\\lib\\site-packages (from pycaret) (2.27.1)\n",
      "Requirement already satisfied: yellowbrick>=1.4 in c:\\users\\sahil\\appdata\\roaming\\python\\python39\\site-packages (from pycaret) (1.4)\n",
      "Requirement already satisfied: psutil>=5.9.0 in c:\\users\\sahil\\appdata\\roaming\\python\\python39\\site-packages (from pycaret) (5.9.1)\n",
      "Requirement already satisfied: scikit-learn>=1.0 in c:\\users\\sahil\\anaconda3\\lib\\site-packages (from pycaret) (1.1.1)\n",
      "Requirement already satisfied: statsmodels>=0.12.1 in c:\\users\\sahil\\anaconda3\\lib\\site-packages (from pycaret) (0.13.2)\n",
      "Requirement already satisfied: tqdm in c:\\users\\sahil\\anaconda3\\lib\\site-packages (from pycaret) (4.64.0)\n",
      "Requirement already satisfied: kaleido>=0.2.1 in c:\\users\\sahil\\appdata\\roaming\\python\\python39\\site-packages (from pycaret) (0.2.1)\n",
      "Requirement already satisfied: plotly>=5.0.0 in c:\\users\\sahil\\anaconda3\\lib\\site-packages (from pycaret) (5.6.0)\n",
      "Requirement already satisfied: lightgbm>=3.0.0 in c:\\users\\sahil\\appdata\\roaming\\python\\python39\\site-packages (from pycaret) (3.3.2)\n",
      "Requirement already satisfied: ipywidgets>=7.6.5 in c:\\users\\sahil\\anaconda3\\lib\\site-packages (from pycaret) (7.6.5)\n",
      "Requirement already satisfied: schemdraw>=0.14 in c:\\users\\sahil\\appdata\\roaming\\python\\python39\\site-packages (from pycaret) (0.15)\n",
      "Requirement already satisfied: ipython>=5.5.0 in c:\\users\\sahil\\anaconda3\\lib\\site-packages (from pycaret) (8.2.0)\n",
      "Requirement already satisfied: matplotlib>=3.3.0 in c:\\users\\sahil\\anaconda3\\lib\\site-packages (from pycaret) (3.5.1)\n",
      "Requirement already satisfied: patsy>=0.5.1 in c:\\users\\sahil\\anaconda3\\lib\\site-packages (from category-encoders>=2.4.0->pycaret) (0.5.2)\n",
      "Requirement already satisfied: threadpoolctl>=2.0.0 in c:\\users\\sahil\\anaconda3\\lib\\site-packages (from imbalanced-learn>=0.8.1->pycaret) (2.2.0)\n",
      "Requirement already satisfied: traitlets>=5 in c:\\users\\sahil\\anaconda3\\lib\\site-packages (from ipython>=5.5.0->pycaret) (5.1.1)\n",
      "Requirement already satisfied: stack-data in c:\\users\\sahil\\anaconda3\\lib\\site-packages (from ipython>=5.5.0->pycaret) (0.2.0)\n",
      "Requirement already satisfied: backcall in c:\\users\\sahil\\anaconda3\\lib\\site-packages (from ipython>=5.5.0->pycaret) (0.2.0)\n",
      "Requirement already satisfied: matplotlib-inline in c:\\users\\sahil\\anaconda3\\lib\\site-packages (from ipython>=5.5.0->pycaret) (0.1.2)\n",
      "Requirement already satisfied: decorator in c:\\users\\sahil\\anaconda3\\lib\\site-packages (from ipython>=5.5.0->pycaret) (5.1.1)\n",
      "Requirement already satisfied: pygments>=2.4.0 in c:\\users\\sahil\\anaconda3\\lib\\site-packages (from ipython>=5.5.0->pycaret) (2.11.2)\n",
      "Requirement already satisfied: colorama in c:\\users\\sahil\\anaconda3\\lib\\site-packages (from ipython>=5.5.0->pycaret) (0.4.4)\n",
      "Requirement already satisfied: prompt-toolkit!=3.0.0,!=3.0.1,<3.1.0,>=2.0.0 in c:\\users\\sahil\\anaconda3\\lib\\site-packages (from ipython>=5.5.0->pycaret) (3.0.20)\n",
      "Requirement already satisfied: setuptools>=18.5 in c:\\users\\sahil\\anaconda3\\lib\\site-packages (from ipython>=5.5.0->pycaret) (61.2.0)\n",
      "Requirement already satisfied: pickleshare in c:\\users\\sahil\\anaconda3\\lib\\site-packages (from ipython>=5.5.0->pycaret) (0.7.5)\n",
      "Requirement already satisfied: jedi>=0.16 in c:\\users\\sahil\\anaconda3\\lib\\site-packages (from ipython>=5.5.0->pycaret) (0.18.1)\n",
      "Requirement already satisfied: ipython-genutils~=0.2.0 in c:\\users\\sahil\\anaconda3\\lib\\site-packages (from ipywidgets>=7.6.5->pycaret) (0.2.0)\n",
      "Requirement already satisfied: ipykernel>=4.5.1 in c:\\users\\sahil\\anaconda3\\lib\\site-packages (from ipywidgets>=7.6.5->pycaret) (6.9.1)\n",
      "Requirement already satisfied: nbformat>=4.2.0 in c:\\users\\sahil\\anaconda3\\lib\\site-packages (from ipywidgets>=7.6.5->pycaret) (5.3.0)\n",
      "Requirement already satisfied: widgetsnbextension~=3.5.0 in c:\\users\\sahil\\anaconda3\\lib\\site-packages (from ipywidgets>=7.6.5->pycaret) (3.5.2)\n",
      "Requirement already satisfied: jupyterlab-widgets>=1.0.0 in c:\\users\\sahil\\anaconda3\\lib\\site-packages (from ipywidgets>=7.6.5->pycaret) (1.0.0)\n",
      "Requirement already satisfied: jupyter-client<8.0 in c:\\users\\sahil\\anaconda3\\lib\\site-packages (from ipykernel>=4.5.1->ipywidgets>=7.6.5->pycaret) (6.1.12)\n",
      "Requirement already satisfied: debugpy<2.0,>=1.0.0 in c:\\users\\sahil\\anaconda3\\lib\\site-packages (from ipykernel>=4.5.1->ipywidgets>=7.6.5->pycaret) (1.5.1)\n",
      "Requirement already satisfied: nest-asyncio in c:\\users\\sahil\\anaconda3\\lib\\site-packages (from ipykernel>=4.5.1->ipywidgets>=7.6.5->pycaret) (1.5.5)\n",
      "Requirement already satisfied: tornado<7.0,>=4.2 in c:\\users\\sahil\\anaconda3\\lib\\site-packages (from ipykernel>=4.5.1->ipywidgets>=7.6.5->pycaret) (6.1)\n",
      "Requirement already satisfied: parso<0.9.0,>=0.8.0 in c:\\users\\sahil\\anaconda3\\lib\\site-packages (from jedi>=0.16->ipython>=5.5.0->pycaret) (0.8.3)\n",
      "Requirement already satisfied: MarkupSafe>=0.23 in c:\\users\\sahil\\anaconda3\\lib\\site-packages (from jinja2>=1.2->pycaret) (2.0.1)\n",
      "Requirement already satisfied: jupyter-core>=4.6.0 in c:\\users\\sahil\\anaconda3\\lib\\site-packages (from jupyter-client<8.0->ipykernel>=4.5.1->ipywidgets>=7.6.5->pycaret) (4.9.2)\n",
      "Requirement already satisfied: pyzmq>=13 in c:\\users\\sahil\\anaconda3\\lib\\site-packages (from jupyter-client<8.0->ipykernel>=4.5.1->ipywidgets>=7.6.5->pycaret) (22.3.0)\n",
      "Requirement already satisfied: python-dateutil>=2.1 in c:\\users\\sahil\\anaconda3\\lib\\site-packages (from jupyter-client<8.0->ipykernel>=4.5.1->ipywidgets>=7.6.5->pycaret) (2.8.2)\n",
      "Requirement already satisfied: pywin32>=1.0 in c:\\users\\sahil\\appdata\\roaming\\python\\python39\\site-packages (from jupyter-core>=4.6.0->jupyter-client<8.0->ipykernel>=4.5.1->ipywidgets>=7.6.5->pycaret) (227)\n",
      "Requirement already satisfied: wheel in c:\\users\\sahil\\anaconda3\\lib\\site-packages (from lightgbm>=3.0.0->pycaret) (0.37.1)\n",
      "Requirement already satisfied: packaging>=20.0 in c:\\users\\sahil\\anaconda3\\lib\\site-packages (from matplotlib>=3.3.0->pycaret) (21.3)\n",
      "Requirement already satisfied: pyparsing>=2.2.1 in c:\\users\\sahil\\anaconda3\\lib\\site-packages (from matplotlib>=3.3.0->pycaret) (3.0.4)\n",
      "Requirement already satisfied: fonttools>=4.22.0 in c:\\users\\sahil\\anaconda3\\lib\\site-packages (from matplotlib>=3.3.0->pycaret) (4.25.0)\n",
      "Requirement already satisfied: pillow>=6.2.0 in c:\\users\\sahil\\anaconda3\\lib\\site-packages (from matplotlib>=3.3.0->pycaret) (9.0.1)\n",
      "Requirement already satisfied: kiwisolver>=1.0.1 in c:\\users\\sahil\\anaconda3\\lib\\site-packages (from matplotlib>=3.3.0->pycaret) (1.3.2)\n",
      "Requirement already satisfied: cycler>=0.10 in c:\\users\\sahil\\anaconda3\\lib\\site-packages (from matplotlib>=3.3.0->pycaret) (0.11.0)\n",
      "Requirement already satisfied: jsonschema>=2.6 in c:\\users\\sahil\\anaconda3\\lib\\site-packages (from nbformat>=4.2.0->ipywidgets>=7.6.5->pycaret) (4.4.0)\n",
      "Requirement already satisfied: fastjsonschema in c:\\users\\sahil\\anaconda3\\lib\\site-packages (from nbformat>=4.2.0->ipywidgets>=7.6.5->pycaret) (2.15.1)\n",
      "Requirement already satisfied: attrs>=17.4.0 in c:\\users\\sahil\\anaconda3\\lib\\site-packages (from jsonschema>=2.6->nbformat>=4.2.0->ipywidgets>=7.6.5->pycaret) (21.4.0)\n",
      "Requirement already satisfied: pyrsistent!=0.17.0,!=0.17.1,!=0.17.2,>=0.14.0 in c:\\users\\sahil\\anaconda3\\lib\\site-packages (from jsonschema>=2.6->nbformat>=4.2.0->ipywidgets>=7.6.5->pycaret) (0.18.0)\n",
      "Requirement already satisfied: llvmlite<0.39,>=0.38.0rc1 in c:\\users\\sahil\\anaconda3\\lib\\site-packages (from numba~=0.55.0->pycaret) (0.38.0)\n",
      "Requirement already satisfied: pytz>=2020.1 in c:\\users\\sahil\\anaconda3\\lib\\site-packages (from pandas<1.5.0,>=1.3.0->pycaret) (2021.3)\n",
      "Requirement already satisfied: six in c:\\users\\sahil\\anaconda3\\lib\\site-packages (from patsy>=0.5.1->category-encoders>=2.4.0->pycaret) (1.16.0)\n",
      "Requirement already satisfied: tenacity>=6.2.0 in c:\\users\\sahil\\anaconda3\\lib\\site-packages (from plotly>=5.0.0->pycaret) (8.0.1)\n",
      "Requirement already satisfied: urllib3 in c:\\users\\sahil\\anaconda3\\lib\\site-packages (from pmdarima>=1.8.0->pycaret) (1.26.9)\n",
      "Requirement already satisfied: Cython!=0.29.18,>=0.29 in c:\\users\\sahil\\anaconda3\\lib\\site-packages (from pmdarima>=1.8.0->pycaret) (0.29.28)\n",
      "Requirement already satisfied: wcwidth in c:\\users\\sahil\\anaconda3\\lib\\site-packages (from prompt-toolkit!=3.0.0,!=3.0.1,<3.1.0,>=2.0.0->ipython>=5.5.0->pycaret) (0.2.5)\n",
      "Requirement already satisfied: idna<4,>=2.5 in c:\\users\\sahil\\anaconda3\\lib\\site-packages (from requests>=2.27.1->pycaret) (3.3)\n",
      "Requirement already satisfied: certifi>=2017.4.17 in c:\\users\\sahil\\anaconda3\\lib\\site-packages (from requests>=2.27.1->pycaret) (2021.10.8)\n",
      "Requirement already satisfied: charset-normalizer~=2.0.0 in c:\\users\\sahil\\anaconda3\\lib\\site-packages (from requests>=2.27.1->pycaret) (2.0.4)\n",
      "Requirement already satisfied: deprecated>=1.2.13 in c:\\users\\sahil\\appdata\\roaming\\python\\python39\\site-packages (from sktime>=0.11.4->pycaret) (1.2.13)\n",
      "Requirement already satisfied: wrapt<2,>=1.10 in c:\\users\\sahil\\anaconda3\\lib\\site-packages (from deprecated>=1.2.13->sktime>=0.11.4->pycaret) (1.12.1)\n",
      "Requirement already satisfied: notebook>=4.4.1 in c:\\users\\sahil\\anaconda3\\lib\\site-packages (from widgetsnbextension~=3.5.0->ipywidgets>=7.6.5->pycaret) (6.4.8)\n",
      "Requirement already satisfied: nbconvert in c:\\users\\sahil\\anaconda3\\lib\\site-packages (from notebook>=4.4.1->widgetsnbextension~=3.5.0->ipywidgets>=7.6.5->pycaret) (6.4.4)\n",
      "Requirement already satisfied: Send2Trash>=1.8.0 in c:\\users\\sahil\\anaconda3\\lib\\site-packages (from notebook>=4.4.1->widgetsnbextension~=3.5.0->ipywidgets>=7.6.5->pycaret) (1.8.0)\n",
      "Requirement already satisfied: terminado>=0.8.3 in c:\\users\\sahil\\anaconda3\\lib\\site-packages (from notebook>=4.4.1->widgetsnbextension~=3.5.0->ipywidgets>=7.6.5->pycaret) (0.13.1)\n",
      "Requirement already satisfied: prometheus-client in c:\\users\\sahil\\anaconda3\\lib\\site-packages (from notebook>=4.4.1->widgetsnbextension~=3.5.0->ipywidgets>=7.6.5->pycaret) (0.13.1)\n",
      "Requirement already satisfied: argon2-cffi in c:\\users\\sahil\\anaconda3\\lib\\site-packages (from notebook>=4.4.1->widgetsnbextension~=3.5.0->ipywidgets>=7.6.5->pycaret) (21.3.0)\n",
      "Requirement already satisfied: pywinpty>=1.1.0 in c:\\users\\sahil\\anaconda3\\lib\\site-packages (from terminado>=0.8.3->notebook>=4.4.1->widgetsnbextension~=3.5.0->ipywidgets>=7.6.5->pycaret) (2.0.2)\n",
      "Requirement already satisfied: argon2-cffi-bindings in c:\\users\\sahil\\anaconda3\\lib\\site-packages (from argon2-cffi->notebook>=4.4.1->widgetsnbextension~=3.5.0->ipywidgets>=7.6.5->pycaret) (21.2.0)\n",
      "Requirement already satisfied: cffi>=1.0.1 in c:\\users\\sahil\\anaconda3\\lib\\site-packages (from argon2-cffi-bindings->argon2-cffi->notebook>=4.4.1->widgetsnbextension~=3.5.0->ipywidgets>=7.6.5->pycaret) (1.15.0)\n",
      "Requirement already satisfied: pycparser in c:\\users\\sahil\\anaconda3\\lib\\site-packages (from cffi>=1.0.1->argon2-cffi-bindings->argon2-cffi->notebook>=4.4.1->widgetsnbextension~=3.5.0->ipywidgets>=7.6.5->pycaret) (2.21)\n",
      "Requirement already satisfied: bleach in c:\\users\\sahil\\anaconda3\\lib\\site-packages (from nbconvert->notebook>=4.4.1->widgetsnbextension~=3.5.0->ipywidgets>=7.6.5->pycaret) (4.1.0)\n",
      "Requirement already satisfied: beautifulsoup4 in c:\\users\\sahil\\anaconda3\\lib\\site-packages (from nbconvert->notebook>=4.4.1->widgetsnbextension~=3.5.0->ipywidgets>=7.6.5->pycaret) (4.11.1)\n",
      "Requirement already satisfied: entrypoints>=0.2.2 in c:\\users\\sahil\\anaconda3\\lib\\site-packages (from nbconvert->notebook>=4.4.1->widgetsnbextension~=3.5.0->ipywidgets>=7.6.5->pycaret) (0.4)\n",
      "Requirement already satisfied: mistune<2,>=0.8.1 in c:\\users\\sahil\\anaconda3\\lib\\site-packages (from nbconvert->notebook>=4.4.1->widgetsnbextension~=3.5.0->ipywidgets>=7.6.5->pycaret) (0.8.4)\n",
      "Requirement already satisfied: jupyterlab-pygments in c:\\users\\sahil\\anaconda3\\lib\\site-packages (from nbconvert->notebook>=4.4.1->widgetsnbextension~=3.5.0->ipywidgets>=7.6.5->pycaret) (0.1.2)\n",
      "Requirement already satisfied: testpath in c:\\users\\sahil\\anaconda3\\lib\\site-packages (from nbconvert->notebook>=4.4.1->widgetsnbextension~=3.5.0->ipywidgets>=7.6.5->pycaret) (0.5.0)\n",
      "Requirement already satisfied: nbclient<0.6.0,>=0.5.0 in c:\\users\\sahil\\anaconda3\\lib\\site-packages (from nbconvert->notebook>=4.4.1->widgetsnbextension~=3.5.0->ipywidgets>=7.6.5->pycaret) (0.5.13)\n",
      "Requirement already satisfied: pandocfilters>=1.4.1 in c:\\users\\sahil\\anaconda3\\lib\\site-packages (from nbconvert->notebook>=4.4.1->widgetsnbextension~=3.5.0->ipywidgets>=7.6.5->pycaret) (1.5.0)\n",
      "Requirement already satisfied: defusedxml in c:\\users\\sahil\\anaconda3\\lib\\site-packages (from nbconvert->notebook>=4.4.1->widgetsnbextension~=3.5.0->ipywidgets>=7.6.5->pycaret) (0.7.1)\n",
      "Requirement already satisfied: soupsieve>1.2 in c:\\users\\sahil\\anaconda3\\lib\\site-packages (from beautifulsoup4->nbconvert->notebook>=4.4.1->widgetsnbextension~=3.5.0->ipywidgets>=7.6.5->pycaret) (2.3.1)\n",
      "Requirement already satisfied: webencodings in c:\\users\\sahil\\anaconda3\\lib\\site-packages (from bleach->nbconvert->notebook>=4.4.1->widgetsnbextension~=3.5.0->ipywidgets>=7.6.5->pycaret) (0.5.1)\n",
      "Requirement already satisfied: asttokens in c:\\users\\sahil\\anaconda3\\lib\\site-packages (from stack-data->ipython>=5.5.0->pycaret) (2.0.5)\n",
      "Requirement already satisfied: pure-eval in c:\\users\\sahil\\anaconda3\\lib\\site-packages (from stack-data->ipython>=5.5.0->pycaret) (0.2.2)\n",
      "Requirement already satisfied: executing in c:\\users\\sahil\\anaconda3\\lib\\site-packages (from stack-data->ipython>=5.5.0->pycaret) (0.8.3)\n"
     ]
    }
   ],
   "source": [
    "pip install --user --pre pycaret"
   ]
  },
  {
   "cell_type": "code",
   "execution_count": 68,
   "id": "a0f3703c",
   "metadata": {},
   "outputs": [],
   "source": [
    "# Importing pycaret , which is an autoML library that is used to test data on many algorithms at once and gives the result of best algorithm\n",
    "from pycaret.regression import *"
   ]
  },
  {
   "cell_type": "code",
   "execution_count": 69,
   "id": "91991b15",
   "metadata": {},
   "outputs": [
    {
     "data": {
      "text/html": [
       "<style type=\"text/css\">\n",
       "#T_c19c1_row7_col1 {\n",
       "  background-color: lightgreen;\n",
       "}\n",
       "</style>\n",
       "<table id=\"T_c19c1\">\n",
       "  <thead>\n",
       "    <tr>\n",
       "      <th class=\"blank level0\" >&nbsp;</th>\n",
       "      <th id=\"T_c19c1_level0_col0\" class=\"col_heading level0 col0\" >Description</th>\n",
       "      <th id=\"T_c19c1_level0_col1\" class=\"col_heading level0 col1\" >Value</th>\n",
       "    </tr>\n",
       "  </thead>\n",
       "  <tbody>\n",
       "    <tr>\n",
       "      <th id=\"T_c19c1_level0_row0\" class=\"row_heading level0 row0\" >0</th>\n",
       "      <td id=\"T_c19c1_row0_col0\" class=\"data row0 col0\" >Session id</td>\n",
       "      <td id=\"T_c19c1_row0_col1\" class=\"data row0 col1\" >8056</td>\n",
       "    </tr>\n",
       "    <tr>\n",
       "      <th id=\"T_c19c1_level0_row1\" class=\"row_heading level0 row1\" >1</th>\n",
       "      <td id=\"T_c19c1_row1_col0\" class=\"data row1 col0\" >Target</td>\n",
       "      <td id=\"T_c19c1_row1_col1\" class=\"data row1 col1\" >price</td>\n",
       "    </tr>\n",
       "    <tr>\n",
       "      <th id=\"T_c19c1_level0_row2\" class=\"row_heading level0 row2\" >2</th>\n",
       "      <td id=\"T_c19c1_row2_col0\" class=\"data row2 col0\" >Target type</td>\n",
       "      <td id=\"T_c19c1_row2_col1\" class=\"data row2 col1\" >Regression</td>\n",
       "    </tr>\n",
       "    <tr>\n",
       "      <th id=\"T_c19c1_level0_row3\" class=\"row_heading level0 row3\" >3</th>\n",
       "      <td id=\"T_c19c1_row3_col0\" class=\"data row3 col0\" >Data shape</td>\n",
       "      <td id=\"T_c19c1_row3_col1\" class=\"data row3 col1\" >(237, 25)</td>\n",
       "    </tr>\n",
       "    <tr>\n",
       "      <th id=\"T_c19c1_level0_row4\" class=\"row_heading level0 row4\" >4</th>\n",
       "      <td id=\"T_c19c1_row4_col0\" class=\"data row4 col0\" >Train data shape</td>\n",
       "      <td id=\"T_c19c1_row4_col1\" class=\"data row4 col1\" >(165, 25)</td>\n",
       "    </tr>\n",
       "    <tr>\n",
       "      <th id=\"T_c19c1_level0_row5\" class=\"row_heading level0 row5\" >5</th>\n",
       "      <td id=\"T_c19c1_row5_col0\" class=\"data row5 col0\" >Test data shape</td>\n",
       "      <td id=\"T_c19c1_row5_col1\" class=\"data row5 col1\" >(72, 25)</td>\n",
       "    </tr>\n",
       "    <tr>\n",
       "      <th id=\"T_c19c1_level0_row6\" class=\"row_heading level0 row6\" >6</th>\n",
       "      <td id=\"T_c19c1_row6_col0\" class=\"data row6 col0\" >Numeric features</td>\n",
       "      <td id=\"T_c19c1_row6_col1\" class=\"data row6 col1\" >24</td>\n",
       "    </tr>\n",
       "    <tr>\n",
       "      <th id=\"T_c19c1_level0_row7\" class=\"row_heading level0 row7\" >7</th>\n",
       "      <td id=\"T_c19c1_row7_col0\" class=\"data row7 col0\" >Preprocess</td>\n",
       "      <td id=\"T_c19c1_row7_col1\" class=\"data row7 col1\" >True</td>\n",
       "    </tr>\n",
       "    <tr>\n",
       "      <th id=\"T_c19c1_level0_row8\" class=\"row_heading level0 row8\" >8</th>\n",
       "      <td id=\"T_c19c1_row8_col0\" class=\"data row8 col0\" >Imputation type</td>\n",
       "      <td id=\"T_c19c1_row8_col1\" class=\"data row8 col1\" >simple</td>\n",
       "    </tr>\n",
       "    <tr>\n",
       "      <th id=\"T_c19c1_level0_row9\" class=\"row_heading level0 row9\" >9</th>\n",
       "      <td id=\"T_c19c1_row9_col0\" class=\"data row9 col0\" >Numeric imputation</td>\n",
       "      <td id=\"T_c19c1_row9_col1\" class=\"data row9 col1\" >mean</td>\n",
       "    </tr>\n",
       "    <tr>\n",
       "      <th id=\"T_c19c1_level0_row10\" class=\"row_heading level0 row10\" >10</th>\n",
       "      <td id=\"T_c19c1_row10_col0\" class=\"data row10 col0\" >Categorical imputation</td>\n",
       "      <td id=\"T_c19c1_row10_col1\" class=\"data row10 col1\" >constant</td>\n",
       "    </tr>\n",
       "    <tr>\n",
       "      <th id=\"T_c19c1_level0_row11\" class=\"row_heading level0 row11\" >11</th>\n",
       "      <td id=\"T_c19c1_row11_col0\" class=\"data row11 col0\" >Fold Generator</td>\n",
       "      <td id=\"T_c19c1_row11_col1\" class=\"data row11 col1\" >KFold</td>\n",
       "    </tr>\n",
       "    <tr>\n",
       "      <th id=\"T_c19c1_level0_row12\" class=\"row_heading level0 row12\" >12</th>\n",
       "      <td id=\"T_c19c1_row12_col0\" class=\"data row12 col0\" >Fold Number</td>\n",
       "      <td id=\"T_c19c1_row12_col1\" class=\"data row12 col1\" >10</td>\n",
       "    </tr>\n",
       "    <tr>\n",
       "      <th id=\"T_c19c1_level0_row13\" class=\"row_heading level0 row13\" >13</th>\n",
       "      <td id=\"T_c19c1_row13_col0\" class=\"data row13 col0\" >CPU Jobs</td>\n",
       "      <td id=\"T_c19c1_row13_col1\" class=\"data row13 col1\" >-1</td>\n",
       "    </tr>\n",
       "    <tr>\n",
       "      <th id=\"T_c19c1_level0_row14\" class=\"row_heading level0 row14\" >14</th>\n",
       "      <td id=\"T_c19c1_row14_col0\" class=\"data row14 col0\" >Use GPU</td>\n",
       "      <td id=\"T_c19c1_row14_col1\" class=\"data row14 col1\" >False</td>\n",
       "    </tr>\n",
       "    <tr>\n",
       "      <th id=\"T_c19c1_level0_row15\" class=\"row_heading level0 row15\" >15</th>\n",
       "      <td id=\"T_c19c1_row15_col0\" class=\"data row15 col0\" >Log Experiment</td>\n",
       "      <td id=\"T_c19c1_row15_col1\" class=\"data row15 col1\" >False</td>\n",
       "    </tr>\n",
       "    <tr>\n",
       "      <th id=\"T_c19c1_level0_row16\" class=\"row_heading level0 row16\" >16</th>\n",
       "      <td id=\"T_c19c1_row16_col0\" class=\"data row16 col0\" >Experiment Name</td>\n",
       "      <td id=\"T_c19c1_row16_col1\" class=\"data row16 col1\" >reg-default-name</td>\n",
       "    </tr>\n",
       "    <tr>\n",
       "      <th id=\"T_c19c1_level0_row17\" class=\"row_heading level0 row17\" >17</th>\n",
       "      <td id=\"T_c19c1_row17_col0\" class=\"data row17 col0\" >USI</td>\n",
       "      <td id=\"T_c19c1_row17_col1\" class=\"data row17 col1\" >a099</td>\n",
       "    </tr>\n",
       "  </tbody>\n",
       "</table>\n"
      ],
      "text/plain": [
       "<pandas.io.formats.style.Styler at 0x19ce1c3cfa0>"
      ]
     },
     "metadata": {},
     "output_type": "display_data"
    }
   ],
   "source": [
    "ed_reg = setup(data=df, target='price')"
   ]
  },
  {
   "cell_type": "code",
   "execution_count": 70,
   "id": "00fe49ae",
   "metadata": {},
   "outputs": [
    {
     "data": {
      "text/html": [],
      "text/plain": [
       "<IPython.core.display.HTML object>"
      ]
     },
     "metadata": {},
     "output_type": "display_data"
    },
    {
     "data": {
      "text/html": [
       "<style type=\"text/css\">\n",
       "#T_c64b3 th {\n",
       "  text-align: left;\n",
       "}\n",
       "#T_c64b3_row0_col0, #T_c64b3_row1_col0, #T_c64b3_row1_col1, #T_c64b3_row1_col2, #T_c64b3_row1_col3, #T_c64b3_row1_col4, #T_c64b3_row1_col5, #T_c64b3_row1_col6, #T_c64b3_row2_col0, #T_c64b3_row2_col1, #T_c64b3_row2_col2, #T_c64b3_row2_col3, #T_c64b3_row2_col4, #T_c64b3_row2_col5, #T_c64b3_row2_col6, #T_c64b3_row3_col0, #T_c64b3_row3_col1, #T_c64b3_row3_col2, #T_c64b3_row3_col3, #T_c64b3_row3_col4, #T_c64b3_row3_col5, #T_c64b3_row3_col6, #T_c64b3_row4_col0, #T_c64b3_row4_col1, #T_c64b3_row4_col2, #T_c64b3_row4_col3, #T_c64b3_row4_col4, #T_c64b3_row4_col5, #T_c64b3_row4_col6, #T_c64b3_row5_col0, #T_c64b3_row5_col1, #T_c64b3_row5_col2, #T_c64b3_row5_col3, #T_c64b3_row5_col4, #T_c64b3_row5_col5, #T_c64b3_row5_col6, #T_c64b3_row6_col0, #T_c64b3_row6_col1, #T_c64b3_row6_col2, #T_c64b3_row6_col3, #T_c64b3_row6_col4, #T_c64b3_row6_col5, #T_c64b3_row6_col6, #T_c64b3_row7_col0, #T_c64b3_row7_col1, #T_c64b3_row7_col2, #T_c64b3_row7_col3, #T_c64b3_row7_col4, #T_c64b3_row7_col5, #T_c64b3_row7_col6, #T_c64b3_row8_col0, #T_c64b3_row8_col1, #T_c64b3_row8_col2, #T_c64b3_row8_col3, #T_c64b3_row8_col4, #T_c64b3_row8_col5, #T_c64b3_row8_col6, #T_c64b3_row9_col0, #T_c64b3_row9_col1, #T_c64b3_row9_col2, #T_c64b3_row9_col3, #T_c64b3_row9_col4, #T_c64b3_row9_col5, #T_c64b3_row9_col6, #T_c64b3_row10_col0, #T_c64b3_row10_col1, #T_c64b3_row10_col2, #T_c64b3_row10_col3, #T_c64b3_row10_col4, #T_c64b3_row10_col5, #T_c64b3_row10_col6, #T_c64b3_row11_col0, #T_c64b3_row11_col1, #T_c64b3_row11_col2, #T_c64b3_row11_col3, #T_c64b3_row11_col4, #T_c64b3_row11_col5, #T_c64b3_row11_col6, #T_c64b3_row12_col0, #T_c64b3_row12_col1, #T_c64b3_row12_col2, #T_c64b3_row12_col3, #T_c64b3_row12_col4, #T_c64b3_row12_col5, #T_c64b3_row12_col6, #T_c64b3_row13_col0, #T_c64b3_row13_col1, #T_c64b3_row13_col2, #T_c64b3_row13_col3, #T_c64b3_row13_col4, #T_c64b3_row13_col5, #T_c64b3_row13_col6, #T_c64b3_row14_col0, #T_c64b3_row14_col1, #T_c64b3_row14_col2, #T_c64b3_row14_col3, #T_c64b3_row14_col4, #T_c64b3_row14_col5, #T_c64b3_row14_col6, #T_c64b3_row15_col0, #T_c64b3_row15_col1, #T_c64b3_row15_col2, #T_c64b3_row15_col3, #T_c64b3_row15_col4, #T_c64b3_row15_col5, #T_c64b3_row15_col6, #T_c64b3_row16_col0, #T_c64b3_row16_col1, #T_c64b3_row16_col2, #T_c64b3_row16_col3, #T_c64b3_row16_col4, #T_c64b3_row16_col5, #T_c64b3_row16_col6 {\n",
       "  text-align: left;\n",
       "}\n",
       "#T_c64b3_row0_col1, #T_c64b3_row0_col2, #T_c64b3_row0_col3, #T_c64b3_row0_col4, #T_c64b3_row0_col5, #T_c64b3_row0_col6 {\n",
       "  text-align: left;\n",
       "  background-color: yellow;\n",
       "}\n",
       "#T_c64b3_row0_col7, #T_c64b3_row1_col7, #T_c64b3_row2_col7, #T_c64b3_row3_col7, #T_c64b3_row4_col7, #T_c64b3_row5_col7, #T_c64b3_row6_col7, #T_c64b3_row7_col7, #T_c64b3_row8_col7, #T_c64b3_row9_col7, #T_c64b3_row10_col7, #T_c64b3_row11_col7, #T_c64b3_row12_col7, #T_c64b3_row13_col7 {\n",
       "  text-align: left;\n",
       "  background-color: lightgrey;\n",
       "}\n",
       "#T_c64b3_row14_col7, #T_c64b3_row15_col7, #T_c64b3_row16_col7 {\n",
       "  text-align: left;\n",
       "  background-color: yellow;\n",
       "  background-color: lightgrey;\n",
       "}\n",
       "</style>\n",
       "<table id=\"T_c64b3\">\n",
       "  <thead>\n",
       "    <tr>\n",
       "      <th class=\"blank level0\" >&nbsp;</th>\n",
       "      <th id=\"T_c64b3_level0_col0\" class=\"col_heading level0 col0\" >Model</th>\n",
       "      <th id=\"T_c64b3_level0_col1\" class=\"col_heading level0 col1\" >MAE</th>\n",
       "      <th id=\"T_c64b3_level0_col2\" class=\"col_heading level0 col2\" >MSE</th>\n",
       "      <th id=\"T_c64b3_level0_col3\" class=\"col_heading level0 col3\" >RMSE</th>\n",
       "      <th id=\"T_c64b3_level0_col4\" class=\"col_heading level0 col4\" >R2</th>\n",
       "      <th id=\"T_c64b3_level0_col5\" class=\"col_heading level0 col5\" >RMSLE</th>\n",
       "      <th id=\"T_c64b3_level0_col6\" class=\"col_heading level0 col6\" >MAPE</th>\n",
       "      <th id=\"T_c64b3_level0_col7\" class=\"col_heading level0 col7\" >TT (Sec)</th>\n",
       "    </tr>\n",
       "  </thead>\n",
       "  <tbody>\n",
       "    <tr>\n",
       "      <th id=\"T_c64b3_level0_row0\" class=\"row_heading level0 row0\" >gbr</th>\n",
       "      <td id=\"T_c64b3_row0_col0\" class=\"data row0 col0\" >Gradient Boosting Regressor</td>\n",
       "      <td id=\"T_c64b3_row0_col1\" class=\"data row0 col1\" >1611.5714</td>\n",
       "      <td id=\"T_c64b3_row0_col2\" class=\"data row0 col2\" >6712330.8168</td>\n",
       "      <td id=\"T_c64b3_row0_col3\" class=\"data row0 col3\" >2464.5627</td>\n",
       "      <td id=\"T_c64b3_row0_col4\" class=\"data row0 col4\" >0.9676</td>\n",
       "      <td id=\"T_c64b3_row0_col5\" class=\"data row0 col5\" >0.0696</td>\n",
       "      <td id=\"T_c64b3_row0_col6\" class=\"data row0 col6\" >0.0479</td>\n",
       "      <td id=\"T_c64b3_row0_col7\" class=\"data row0 col7\" >0.0140</td>\n",
       "    </tr>\n",
       "    <tr>\n",
       "      <th id=\"T_c64b3_level0_row1\" class=\"row_heading level0 row1\" >rf</th>\n",
       "      <td id=\"T_c64b3_row1_col0\" class=\"data row1 col0\" >Random Forest Regressor</td>\n",
       "      <td id=\"T_c64b3_row1_col1\" class=\"data row1 col1\" >1713.6039</td>\n",
       "      <td id=\"T_c64b3_row1_col2\" class=\"data row1 col2\" >7221869.1925</td>\n",
       "      <td id=\"T_c64b3_row1_col3\" class=\"data row1 col3\" >2594.0026</td>\n",
       "      <td id=\"T_c64b3_row1_col4\" class=\"data row1 col4\" >0.9650</td>\n",
       "      <td id=\"T_c64b3_row1_col5\" class=\"data row1 col5\" >0.0749</td>\n",
       "      <td id=\"T_c64b3_row1_col6\" class=\"data row1 col6\" >0.0513</td>\n",
       "      <td id=\"T_c64b3_row1_col7\" class=\"data row1 col7\" >0.0310</td>\n",
       "    </tr>\n",
       "    <tr>\n",
       "      <th id=\"T_c64b3_level0_row2\" class=\"row_heading level0 row2\" >et</th>\n",
       "      <td id=\"T_c64b3_row2_col0\" class=\"data row2 col0\" >Extra Trees Regressor</td>\n",
       "      <td id=\"T_c64b3_row2_col1\" class=\"data row2 col1\" >1632.9785</td>\n",
       "      <td id=\"T_c64b3_row2_col2\" class=\"data row2 col2\" >7432918.8474</td>\n",
       "      <td id=\"T_c64b3_row2_col3\" class=\"data row2 col3\" >2575.0523</td>\n",
       "      <td id=\"T_c64b3_row2_col4\" class=\"data row2 col4\" >0.9628</td>\n",
       "      <td id=\"T_c64b3_row2_col5\" class=\"data row2 col5\" >0.0723</td>\n",
       "      <td id=\"T_c64b3_row2_col6\" class=\"data row2 col6\" >0.0480</td>\n",
       "      <td id=\"T_c64b3_row2_col7\" class=\"data row2 col7\" >0.0340</td>\n",
       "    </tr>\n",
       "    <tr>\n",
       "      <th id=\"T_c64b3_level0_row3\" class=\"row_heading level0 row3\" >lightgbm</th>\n",
       "      <td id=\"T_c64b3_row3_col0\" class=\"data row3 col0\" >Light Gradient Boosting Machine</td>\n",
       "      <td id=\"T_c64b3_row3_col1\" class=\"data row3 col1\" >1968.0405</td>\n",
       "      <td id=\"T_c64b3_row3_col2\" class=\"data row3 col2\" >9370362.5968</td>\n",
       "      <td id=\"T_c64b3_row3_col3\" class=\"data row3 col3\" >2972.4285</td>\n",
       "      <td id=\"T_c64b3_row3_col4\" class=\"data row3 col4\" >0.9550</td>\n",
       "      <td id=\"T_c64b3_row3_col5\" class=\"data row3 col5\" >0.0898</td>\n",
       "      <td id=\"T_c64b3_row3_col6\" class=\"data row3 col6\" >0.0623</td>\n",
       "      <td id=\"T_c64b3_row3_col7\" class=\"data row3 col7\" >0.1290</td>\n",
       "    </tr>\n",
       "    <tr>\n",
       "      <th id=\"T_c64b3_level0_row4\" class=\"row_heading level0 row4\" >dt</th>\n",
       "      <td id=\"T_c64b3_row4_col0\" class=\"data row4 col0\" >Decision Tree Regressor</td>\n",
       "      <td id=\"T_c64b3_row4_col1\" class=\"data row4 col1\" >1654.8517</td>\n",
       "      <td id=\"T_c64b3_row4_col2\" class=\"data row4 col2\" >8896353.4478</td>\n",
       "      <td id=\"T_c64b3_row4_col3\" class=\"data row4 col3\" >2733.4344</td>\n",
       "      <td id=\"T_c64b3_row4_col4\" class=\"data row4 col4\" >0.9530</td>\n",
       "      <td id=\"T_c64b3_row4_col5\" class=\"data row4 col5\" >0.0781</td>\n",
       "      <td id=\"T_c64b3_row4_col6\" class=\"data row4 col6\" >0.0486</td>\n",
       "      <td id=\"T_c64b3_row4_col7\" class=\"data row4 col7\" >0.0090</td>\n",
       "    </tr>\n",
       "    <tr>\n",
       "      <th id=\"T_c64b3_level0_row5\" class=\"row_heading level0 row5\" >lasso</th>\n",
       "      <td id=\"T_c64b3_row5_col0\" class=\"data row5 col0\" >Lasso Regression</td>\n",
       "      <td id=\"T_c64b3_row5_col1\" class=\"data row5 col1\" >2075.6933</td>\n",
       "      <td id=\"T_c64b3_row5_col2\" class=\"data row5 col2\" >11324374.7101</td>\n",
       "      <td id=\"T_c64b3_row5_col3\" class=\"data row5 col3\" >3117.8745</td>\n",
       "      <td id=\"T_c64b3_row5_col4\" class=\"data row5 col4\" >0.9411</td>\n",
       "      <td id=\"T_c64b3_row5_col5\" class=\"data row5 col5\" >0.1018</td>\n",
       "      <td id=\"T_c64b3_row5_col6\" class=\"data row5 col6\" >0.0673</td>\n",
       "      <td id=\"T_c64b3_row5_col7\" class=\"data row5 col7\" >0.2620</td>\n",
       "    </tr>\n",
       "    <tr>\n",
       "      <th id=\"T_c64b3_level0_row6\" class=\"row_heading level0 row6\" >llar</th>\n",
       "      <td id=\"T_c64b3_row6_col0\" class=\"data row6 col0\" >Lasso Least Angle Regression</td>\n",
       "      <td id=\"T_c64b3_row6_col1\" class=\"data row6 col1\" >2273.7358</td>\n",
       "      <td id=\"T_c64b3_row6_col2\" class=\"data row6 col2\" >12430371.5472</td>\n",
       "      <td id=\"T_c64b3_row6_col3\" class=\"data row6 col3\" >3330.9068</td>\n",
       "      <td id=\"T_c64b3_row6_col4\" class=\"data row6 col4\" >0.9372</td>\n",
       "      <td id=\"T_c64b3_row6_col5\" class=\"data row6 col5\" >0.1187</td>\n",
       "      <td id=\"T_c64b3_row6_col6\" class=\"data row6 col6\" >0.0786</td>\n",
       "      <td id=\"T_c64b3_row6_col7\" class=\"data row6 col7\" >0.0090</td>\n",
       "    </tr>\n",
       "    <tr>\n",
       "      <th id=\"T_c64b3_level0_row7\" class=\"row_heading level0 row7\" >br</th>\n",
       "      <td id=\"T_c64b3_row7_col0\" class=\"data row7 col0\" >Bayesian Ridge</td>\n",
       "      <td id=\"T_c64b3_row7_col1\" class=\"data row7 col1\" >2254.3219</td>\n",
       "      <td id=\"T_c64b3_row7_col2\" class=\"data row7 col2\" >12937020.2309</td>\n",
       "      <td id=\"T_c64b3_row7_col3\" class=\"data row7 col3\" >3399.3139</td>\n",
       "      <td id=\"T_c64b3_row7_col4\" class=\"data row7 col4\" >0.9364</td>\n",
       "      <td id=\"T_c64b3_row7_col5\" class=\"data row7 col5\" >0.1132</td>\n",
       "      <td id=\"T_c64b3_row7_col6\" class=\"data row7 col6\" >0.0740</td>\n",
       "      <td id=\"T_c64b3_row7_col7\" class=\"data row7 col7\" >0.0120</td>\n",
       "    </tr>\n",
       "    <tr>\n",
       "      <th id=\"T_c64b3_level0_row8\" class=\"row_heading level0 row8\" >huber</th>\n",
       "      <td id=\"T_c64b3_row8_col0\" class=\"data row8 col0\" >Huber Regressor</td>\n",
       "      <td id=\"T_c64b3_row8_col1\" class=\"data row8 col1\" >2209.2106</td>\n",
       "      <td id=\"T_c64b3_row8_col2\" class=\"data row8 col2\" >13625615.3759</td>\n",
       "      <td id=\"T_c64b3_row8_col3\" class=\"data row8 col3\" >3493.7764</td>\n",
       "      <td id=\"T_c64b3_row8_col4\" class=\"data row8 col4\" >0.9342</td>\n",
       "      <td id=\"T_c64b3_row8_col5\" class=\"data row8 col5\" >0.1203</td>\n",
       "      <td id=\"T_c64b3_row8_col6\" class=\"data row8 col6\" >0.0748</td>\n",
       "      <td id=\"T_c64b3_row8_col7\" class=\"data row8 col7\" >0.0130</td>\n",
       "    </tr>\n",
       "    <tr>\n",
       "      <th id=\"T_c64b3_level0_row9\" class=\"row_heading level0 row9\" >ridge</th>\n",
       "      <td id=\"T_c64b3_row9_col0\" class=\"data row9 col0\" >Ridge Regression</td>\n",
       "      <td id=\"T_c64b3_row9_col1\" class=\"data row9 col1\" >2631.1538</td>\n",
       "      <td id=\"T_c64b3_row9_col2\" class=\"data row9 col2\" >14416441.3421</td>\n",
       "      <td id=\"T_c64b3_row9_col3\" class=\"data row9 col3\" >3678.2038</td>\n",
       "      <td id=\"T_c64b3_row9_col4\" class=\"data row9 col4\" >0.9302</td>\n",
       "      <td id=\"T_c64b3_row9_col5\" class=\"data row9 col5\" >0.1312</td>\n",
       "      <td id=\"T_c64b3_row9_col6\" class=\"data row9 col6\" >0.0929</td>\n",
       "      <td id=\"T_c64b3_row9_col7\" class=\"data row9 col7\" >0.0100</td>\n",
       "    </tr>\n",
       "    <tr>\n",
       "      <th id=\"T_c64b3_level0_row10\" class=\"row_heading level0 row10\" >ada</th>\n",
       "      <td id=\"T_c64b3_row10_col0\" class=\"data row10 col0\" >AdaBoost Regressor</td>\n",
       "      <td id=\"T_c64b3_row10_col1\" class=\"data row10 col1\" >2861.3642</td>\n",
       "      <td id=\"T_c64b3_row10_col2\" class=\"data row10 col2\" >14591505.6317</td>\n",
       "      <td id=\"T_c64b3_row10_col3\" class=\"data row10 col3\" >3747.5126</td>\n",
       "      <td id=\"T_c64b3_row10_col4\" class=\"data row10 col4\" >0.9297</td>\n",
       "      <td id=\"T_c64b3_row10_col5\" class=\"data row10 col5\" >0.1182</td>\n",
       "      <td id=\"T_c64b3_row10_col6\" class=\"data row10 col6\" >0.0930</td>\n",
       "      <td id=\"T_c64b3_row10_col7\" class=\"data row10 col7\" >0.0160</td>\n",
       "    </tr>\n",
       "    <tr>\n",
       "      <th id=\"T_c64b3_level0_row11\" class=\"row_heading level0 row11\" >lr</th>\n",
       "      <td id=\"T_c64b3_row11_col0\" class=\"data row11 col0\" >Linear Regression</td>\n",
       "      <td id=\"T_c64b3_row11_col1\" class=\"data row11 col1\" >2125.9870</td>\n",
       "      <td id=\"T_c64b3_row11_col2\" class=\"data row11 col2\" >18358059.1477</td>\n",
       "      <td id=\"T_c64b3_row11_col3\" class=\"data row11 col3\" >3548.3397</td>\n",
       "      <td id=\"T_c64b3_row11_col4\" class=\"data row11 col4\" >0.8958</td>\n",
       "      <td id=\"T_c64b3_row11_col5\" class=\"data row11 col5\" >0.0984</td>\n",
       "      <td id=\"T_c64b3_row11_col6\" class=\"data row11 col6\" >0.0675</td>\n",
       "      <td id=\"T_c64b3_row11_col7\" class=\"data row11 col7\" >0.7850</td>\n",
       "    </tr>\n",
       "    <tr>\n",
       "      <th id=\"T_c64b3_level0_row12\" class=\"row_heading level0 row12\" >knn</th>\n",
       "      <td id=\"T_c64b3_row12_col0\" class=\"data row12 col0\" >K Neighbors Regressor</td>\n",
       "      <td id=\"T_c64b3_row12_col1\" class=\"data row12 col1\" >2852.4202</td>\n",
       "      <td id=\"T_c64b3_row12_col2\" class=\"data row12 col2\" >23410464.4377</td>\n",
       "      <td id=\"T_c64b3_row12_col3\" class=\"data row12 col3\" >4641.3291</td>\n",
       "      <td id=\"T_c64b3_row12_col4\" class=\"data row12 col4\" >0.8934</td>\n",
       "      <td id=\"T_c64b3_row12_col5\" class=\"data row12 col5\" >0.1390</td>\n",
       "      <td id=\"T_c64b3_row12_col6\" class=\"data row12 col6\" >0.0896</td>\n",
       "      <td id=\"T_c64b3_row12_col7\" class=\"data row12 col7\" >0.0090</td>\n",
       "    </tr>\n",
       "    <tr>\n",
       "      <th id=\"T_c64b3_level0_row13\" class=\"row_heading level0 row13\" >par</th>\n",
       "      <td id=\"T_c64b3_row13_col0\" class=\"data row13 col0\" >Passive Aggressive Regressor</td>\n",
       "      <td id=\"T_c64b3_row13_col1\" class=\"data row13 col1\" >3578.5363</td>\n",
       "      <td id=\"T_c64b3_row13_col2\" class=\"data row13 col2\" >27901729.0074</td>\n",
       "      <td id=\"T_c64b3_row13_col3\" class=\"data row13 col3\" >5120.9091</td>\n",
       "      <td id=\"T_c64b3_row13_col4\" class=\"data row13 col4\" >0.8729</td>\n",
       "      <td id=\"T_c64b3_row13_col5\" class=\"data row13 col5\" >0.2069</td>\n",
       "      <td id=\"T_c64b3_row13_col6\" class=\"data row13 col6\" >0.1391</td>\n",
       "      <td id=\"T_c64b3_row13_col7\" class=\"data row13 col7\" >0.0100</td>\n",
       "    </tr>\n",
       "    <tr>\n",
       "      <th id=\"T_c64b3_level0_row14\" class=\"row_heading level0 row14\" >omp</th>\n",
       "      <td id=\"T_c64b3_row14_col0\" class=\"data row14 col0\" >Orthogonal Matching Pursuit</td>\n",
       "      <td id=\"T_c64b3_row14_col1\" class=\"data row14 col1\" >6679.2744</td>\n",
       "      <td id=\"T_c64b3_row14_col2\" class=\"data row14 col2\" >73651564.9233</td>\n",
       "      <td id=\"T_c64b3_row14_col3\" class=\"data row14 col3\" >8415.3093</td>\n",
       "      <td id=\"T_c64b3_row14_col4\" class=\"data row14 col4\" >0.6458</td>\n",
       "      <td id=\"T_c64b3_row14_col5\" class=\"data row14 col5\" >0.3025</td>\n",
       "      <td id=\"T_c64b3_row14_col6\" class=\"data row14 col6\" >0.2419</td>\n",
       "      <td id=\"T_c64b3_row14_col7\" class=\"data row14 col7\" >0.0080</td>\n",
       "    </tr>\n",
       "    <tr>\n",
       "      <th id=\"T_c64b3_level0_row15\" class=\"row_heading level0 row15\" >en</th>\n",
       "      <td id=\"T_c64b3_row15_col0\" class=\"data row15 col0\" >Elastic Net</td>\n",
       "      <td id=\"T_c64b3_row15_col1\" class=\"data row15 col1\" >8380.8480</td>\n",
       "      <td id=\"T_c64b3_row15_col2\" class=\"data row15 col2\" >97200972.0635</td>\n",
       "      <td id=\"T_c64b3_row15_col3\" class=\"data row15 col3\" >9744.4934</td>\n",
       "      <td id=\"T_c64b3_row15_col4\" class=\"data row15 col4\" >0.5518</td>\n",
       "      <td id=\"T_c64b3_row15_col5\" class=\"data row15 col5\" >0.3542</td>\n",
       "      <td id=\"T_c64b3_row15_col6\" class=\"data row15 col6\" >0.3343</td>\n",
       "      <td id=\"T_c64b3_row15_col7\" class=\"data row15 col7\" >0.0080</td>\n",
       "    </tr>\n",
       "    <tr>\n",
       "      <th id=\"T_c64b3_level0_row16\" class=\"row_heading level0 row16\" >dummy</th>\n",
       "      <td id=\"T_c64b3_row16_col0\" class=\"data row16 col0\" >Dummy Regressor</td>\n",
       "      <td id=\"T_c64b3_row16_col1\" class=\"data row16 col1\" >12885.0871</td>\n",
       "      <td id=\"T_c64b3_row16_col2\" class=\"data row16 col2\" >222486021.7105</td>\n",
       "      <td id=\"T_c64b3_row16_col3\" class=\"data row16 col3\" >14861.5070</td>\n",
       "      <td id=\"T_c64b3_row16_col4\" class=\"data row16 col4\" >-0.0406</td>\n",
       "      <td id=\"T_c64b3_row16_col5\" class=\"data row16 col5\" >0.5085</td>\n",
       "      <td id=\"T_c64b3_row16_col6\" class=\"data row16 col6\" >0.5314</td>\n",
       "      <td id=\"T_c64b3_row16_col7\" class=\"data row16 col7\" >0.0080</td>\n",
       "    </tr>\n",
       "  </tbody>\n",
       "</table>\n"
      ],
      "text/plain": [
       "<pandas.io.formats.style.Styler at 0x19ce3497610>"
      ]
     },
     "metadata": {},
     "output_type": "display_data"
    },
    {
     "data": {
      "application/vnd.jupyter.widget-view+json": {
       "model_id": "",
       "version_major": 2,
       "version_minor": 0
      },
      "text/plain": [
       "Processing:   0%|          | 0/77 [00:00<?, ?it/s]"
      ]
     },
     "metadata": {},
     "output_type": "display_data"
    },
    {
     "data": {
      "text/html": [
       "<style>#sk-container-id-1 {color: black;background-color: white;}#sk-container-id-1 pre{padding: 0;}#sk-container-id-1 div.sk-toggleable {background-color: white;}#sk-container-id-1 label.sk-toggleable__label {cursor: pointer;display: block;width: 100%;margin-bottom: 0;padding: 0.3em;box-sizing: border-box;text-align: center;}#sk-container-id-1 label.sk-toggleable__label-arrow:before {content: \"▸\";float: left;margin-right: 0.25em;color: #696969;}#sk-container-id-1 label.sk-toggleable__label-arrow:hover:before {color: black;}#sk-container-id-1 div.sk-estimator:hover label.sk-toggleable__label-arrow:before {color: black;}#sk-container-id-1 div.sk-toggleable__content {max-height: 0;max-width: 0;overflow: hidden;text-align: left;background-color: #f0f8ff;}#sk-container-id-1 div.sk-toggleable__content pre {margin: 0.2em;color: black;border-radius: 0.25em;background-color: #f0f8ff;}#sk-container-id-1 input.sk-toggleable__control:checked~div.sk-toggleable__content {max-height: 200px;max-width: 100%;overflow: auto;}#sk-container-id-1 input.sk-toggleable__control:checked~label.sk-toggleable__label-arrow:before {content: \"▾\";}#sk-container-id-1 div.sk-estimator input.sk-toggleable__control:checked~label.sk-toggleable__label {background-color: #d4ebff;}#sk-container-id-1 div.sk-label input.sk-toggleable__control:checked~label.sk-toggleable__label {background-color: #d4ebff;}#sk-container-id-1 input.sk-hidden--visually {border: 0;clip: rect(1px 1px 1px 1px);clip: rect(1px, 1px, 1px, 1px);height: 1px;margin: -1px;overflow: hidden;padding: 0;position: absolute;width: 1px;}#sk-container-id-1 div.sk-estimator {font-family: monospace;background-color: #f0f8ff;border: 1px dotted black;border-radius: 0.25em;box-sizing: border-box;margin-bottom: 0.5em;}#sk-container-id-1 div.sk-estimator:hover {background-color: #d4ebff;}#sk-container-id-1 div.sk-parallel-item::after {content: \"\";width: 100%;border-bottom: 1px solid gray;flex-grow: 1;}#sk-container-id-1 div.sk-label:hover label.sk-toggleable__label {background-color: #d4ebff;}#sk-container-id-1 div.sk-serial::before {content: \"\";position: absolute;border-left: 1px solid gray;box-sizing: border-box;top: 0;bottom: 0;left: 50%;z-index: 0;}#sk-container-id-1 div.sk-serial {display: flex;flex-direction: column;align-items: center;background-color: white;padding-right: 0.2em;padding-left: 0.2em;position: relative;}#sk-container-id-1 div.sk-item {position: relative;z-index: 1;}#sk-container-id-1 div.sk-parallel {display: flex;align-items: stretch;justify-content: center;background-color: white;position: relative;}#sk-container-id-1 div.sk-item::before, #sk-container-id-1 div.sk-parallel-item::before {content: \"\";position: absolute;border-left: 1px solid gray;box-sizing: border-box;top: 0;bottom: 0;left: 50%;z-index: -1;}#sk-container-id-1 div.sk-parallel-item {display: flex;flex-direction: column;z-index: 1;position: relative;background-color: white;}#sk-container-id-1 div.sk-parallel-item:first-child::after {align-self: flex-end;width: 50%;}#sk-container-id-1 div.sk-parallel-item:last-child::after {align-self: flex-start;width: 50%;}#sk-container-id-1 div.sk-parallel-item:only-child::after {width: 0;}#sk-container-id-1 div.sk-dashed-wrapped {border: 1px dashed gray;margin: 0 0.4em 0.5em 0.4em;box-sizing: border-box;padding-bottom: 0.4em;background-color: white;}#sk-container-id-1 div.sk-label label {font-family: monospace;font-weight: bold;display: inline-block;line-height: 1.2em;}#sk-container-id-1 div.sk-label-container {text-align: center;}#sk-container-id-1 div.sk-container {/* jupyter's `normalize.less` sets `[hidden] { display: none; }` but bootstrap.min.css set `[hidden] { display: none !important; }` so we also need the `!important` here to be able to override the default hidden behavior on the sphinx rendered scikit-learn.org. See: https://github.com/scikit-learn/scikit-learn/issues/21755 */display: inline-block !important;position: relative;}#sk-container-id-1 div.sk-text-repr-fallback {display: none;}</style><div id=\"sk-container-id-1\" class=\"sk-top-container\"><div class=\"sk-text-repr-fallback\"><pre>GradientBoostingRegressor(random_state=8056)</pre><b>In a Jupyter environment, please rerun this cell to show the HTML representation or trust the notebook. <br />On GitHub, the HTML representation is unable to render, please try loading this page with nbviewer.org.</b></div><div class=\"sk-container\" hidden><div class=\"sk-item\"><div class=\"sk-estimator sk-toggleable\"><input class=\"sk-toggleable__control sk-hidden--visually\" id=\"sk-estimator-id-1\" type=\"checkbox\" checked><label for=\"sk-estimator-id-1\" class=\"sk-toggleable__label sk-toggleable__label-arrow\">GradientBoostingRegressor</label><div class=\"sk-toggleable__content\"><pre>GradientBoostingRegressor(random_state=8056)</pre></div></div></div></div></div>"
      ],
      "text/plain": [
       "GradientBoostingRegressor(random_state=8056)"
      ]
     },
     "execution_count": 70,
     "metadata": {},
     "output_type": "execute_result"
    }
   ],
   "source": [
    "# comparing all the regressor models and choosing the best model\n",
    "compare_models()"
   ]
  },
  {
   "cell_type": "code",
   "execution_count": 71,
   "id": "9178e31a",
   "metadata": {},
   "outputs": [],
   "source": [
    "from sklearn.model_selection import train_test_split\n",
    "from sklearn.ensemble import GradientBoostingRegressor\n",
    "from sklearn.model_selection import GridSearchCV,RandomizedSearchCV, StratifiedKFold"
   ]
  },
  {
   "cell_type": "code",
   "execution_count": 72,
   "id": "411d6988",
   "metadata": {},
   "outputs": [],
   "source": [
    "# spliting the data into train and test data\n",
    "x_train, x_test, y_train, y_test = train_test_split(x_norm, y)"
   ]
  },
  {
   "cell_type": "code",
   "execution_count": 73,
   "id": "9f5fc724",
   "metadata": {},
   "outputs": [],
   "source": [
    "gbr = GradientBoostingRegressor()"
   ]
  },
  {
   "cell_type": "code",
   "execution_count": 74,
   "id": "361e9f3f",
   "metadata": {},
   "outputs": [],
   "source": [
    "# Defining parameters to be used in GridSearchCV\n",
    "parameters ={'learning_rate': [0.1,0.2,0.3,0.4,0.5],\n",
    "            'n_estimators' :[100,300,500,1000],\n",
    "            'max_depth': [2,3,5]}"
   ]
  },
  {
   "cell_type": "code",
   "execution_count": 75,
   "id": "cef43520",
   "metadata": {},
   "outputs": [],
   "source": [
    "grid_gbr = GridSearchCV(estimator=gbr, param_grid=parameters, cv=5, n_jobs=-1)"
   ]
  },
  {
   "cell_type": "code",
   "execution_count": 76,
   "id": "9c3ab0b1",
   "metadata": {},
   "outputs": [
    {
     "data": {
      "text/html": [
       "<style>#sk-container-id-2 {color: black;background-color: white;}#sk-container-id-2 pre{padding: 0;}#sk-container-id-2 div.sk-toggleable {background-color: white;}#sk-container-id-2 label.sk-toggleable__label {cursor: pointer;display: block;width: 100%;margin-bottom: 0;padding: 0.3em;box-sizing: border-box;text-align: center;}#sk-container-id-2 label.sk-toggleable__label-arrow:before {content: \"▸\";float: left;margin-right: 0.25em;color: #696969;}#sk-container-id-2 label.sk-toggleable__label-arrow:hover:before {color: black;}#sk-container-id-2 div.sk-estimator:hover label.sk-toggleable__label-arrow:before {color: black;}#sk-container-id-2 div.sk-toggleable__content {max-height: 0;max-width: 0;overflow: hidden;text-align: left;background-color: #f0f8ff;}#sk-container-id-2 div.sk-toggleable__content pre {margin: 0.2em;color: black;border-radius: 0.25em;background-color: #f0f8ff;}#sk-container-id-2 input.sk-toggleable__control:checked~div.sk-toggleable__content {max-height: 200px;max-width: 100%;overflow: auto;}#sk-container-id-2 input.sk-toggleable__control:checked~label.sk-toggleable__label-arrow:before {content: \"▾\";}#sk-container-id-2 div.sk-estimator input.sk-toggleable__control:checked~label.sk-toggleable__label {background-color: #d4ebff;}#sk-container-id-2 div.sk-label input.sk-toggleable__control:checked~label.sk-toggleable__label {background-color: #d4ebff;}#sk-container-id-2 input.sk-hidden--visually {border: 0;clip: rect(1px 1px 1px 1px);clip: rect(1px, 1px, 1px, 1px);height: 1px;margin: -1px;overflow: hidden;padding: 0;position: absolute;width: 1px;}#sk-container-id-2 div.sk-estimator {font-family: monospace;background-color: #f0f8ff;border: 1px dotted black;border-radius: 0.25em;box-sizing: border-box;margin-bottom: 0.5em;}#sk-container-id-2 div.sk-estimator:hover {background-color: #d4ebff;}#sk-container-id-2 div.sk-parallel-item::after {content: \"\";width: 100%;border-bottom: 1px solid gray;flex-grow: 1;}#sk-container-id-2 div.sk-label:hover label.sk-toggleable__label {background-color: #d4ebff;}#sk-container-id-2 div.sk-serial::before {content: \"\";position: absolute;border-left: 1px solid gray;box-sizing: border-box;top: 0;bottom: 0;left: 50%;z-index: 0;}#sk-container-id-2 div.sk-serial {display: flex;flex-direction: column;align-items: center;background-color: white;padding-right: 0.2em;padding-left: 0.2em;position: relative;}#sk-container-id-2 div.sk-item {position: relative;z-index: 1;}#sk-container-id-2 div.sk-parallel {display: flex;align-items: stretch;justify-content: center;background-color: white;position: relative;}#sk-container-id-2 div.sk-item::before, #sk-container-id-2 div.sk-parallel-item::before {content: \"\";position: absolute;border-left: 1px solid gray;box-sizing: border-box;top: 0;bottom: 0;left: 50%;z-index: -1;}#sk-container-id-2 div.sk-parallel-item {display: flex;flex-direction: column;z-index: 1;position: relative;background-color: white;}#sk-container-id-2 div.sk-parallel-item:first-child::after {align-self: flex-end;width: 50%;}#sk-container-id-2 div.sk-parallel-item:last-child::after {align-self: flex-start;width: 50%;}#sk-container-id-2 div.sk-parallel-item:only-child::after {width: 0;}#sk-container-id-2 div.sk-dashed-wrapped {border: 1px dashed gray;margin: 0 0.4em 0.5em 0.4em;box-sizing: border-box;padding-bottom: 0.4em;background-color: white;}#sk-container-id-2 div.sk-label label {font-family: monospace;font-weight: bold;display: inline-block;line-height: 1.2em;}#sk-container-id-2 div.sk-label-container {text-align: center;}#sk-container-id-2 div.sk-container {/* jupyter's `normalize.less` sets `[hidden] { display: none; }` but bootstrap.min.css set `[hidden] { display: none !important; }` so we also need the `!important` here to be able to override the default hidden behavior on the sphinx rendered scikit-learn.org. See: https://github.com/scikit-learn/scikit-learn/issues/21755 */display: inline-block !important;position: relative;}#sk-container-id-2 div.sk-text-repr-fallback {display: none;}</style><div id=\"sk-container-id-2\" class=\"sk-top-container\"><div class=\"sk-text-repr-fallback\"><pre>GridSearchCV(cv=5, estimator=GradientBoostingRegressor(), n_jobs=-1,\n",
       "             param_grid={&#x27;learning_rate&#x27;: [0.1, 0.2, 0.3, 0.4, 0.5],\n",
       "                         &#x27;max_depth&#x27;: [2, 3, 5],\n",
       "                         &#x27;n_estimators&#x27;: [100, 300, 500, 1000]})</pre><b>In a Jupyter environment, please rerun this cell to show the HTML representation or trust the notebook. <br />On GitHub, the HTML representation is unable to render, please try loading this page with nbviewer.org.</b></div><div class=\"sk-container\" hidden><div class=\"sk-item sk-dashed-wrapped\"><div class=\"sk-label-container\"><div class=\"sk-label sk-toggleable\"><input class=\"sk-toggleable__control sk-hidden--visually\" id=\"sk-estimator-id-2\" type=\"checkbox\" ><label for=\"sk-estimator-id-2\" class=\"sk-toggleable__label sk-toggleable__label-arrow\">GridSearchCV</label><div class=\"sk-toggleable__content\"><pre>GridSearchCV(cv=5, estimator=GradientBoostingRegressor(), n_jobs=-1,\n",
       "             param_grid={&#x27;learning_rate&#x27;: [0.1, 0.2, 0.3, 0.4, 0.5],\n",
       "                         &#x27;max_depth&#x27;: [2, 3, 5],\n",
       "                         &#x27;n_estimators&#x27;: [100, 300, 500, 1000]})</pre></div></div></div><div class=\"sk-parallel\"><div class=\"sk-parallel-item\"><div class=\"sk-item\"><div class=\"sk-label-container\"><div class=\"sk-label sk-toggleable\"><input class=\"sk-toggleable__control sk-hidden--visually\" id=\"sk-estimator-id-3\" type=\"checkbox\" ><label for=\"sk-estimator-id-3\" class=\"sk-toggleable__label sk-toggleable__label-arrow\">estimator: GradientBoostingRegressor</label><div class=\"sk-toggleable__content\"><pre>GradientBoostingRegressor()</pre></div></div></div><div class=\"sk-serial\"><div class=\"sk-item\"><div class=\"sk-estimator sk-toggleable\"><input class=\"sk-toggleable__control sk-hidden--visually\" id=\"sk-estimator-id-4\" type=\"checkbox\" ><label for=\"sk-estimator-id-4\" class=\"sk-toggleable__label sk-toggleable__label-arrow\">GradientBoostingRegressor</label><div class=\"sk-toggleable__content\"><pre>GradientBoostingRegressor()</pre></div></div></div></div></div></div></div></div></div></div>"
      ],
      "text/plain": [
       "GridSearchCV(cv=5, estimator=GradientBoostingRegressor(), n_jobs=-1,\n",
       "             param_grid={'learning_rate': [0.1, 0.2, 0.3, 0.4, 0.5],\n",
       "                         'max_depth': [2, 3, 5],\n",
       "                         'n_estimators': [100, 300, 500, 1000]})"
      ]
     },
     "execution_count": 76,
     "metadata": {},
     "output_type": "execute_result"
    }
   ],
   "source": [
    "\n",
    "grid_gbr.fit(x_train,y_train)"
   ]
  },
  {
   "cell_type": "code",
   "execution_count": 77,
   "id": "e91a0ecf",
   "metadata": {},
   "outputs": [
    {
     "name": "stdout",
     "output_type": "stream",
     "text": [
      "\n",
      " The best estimator across ALL searched params:\n",
      " GradientBoostingRegressor(learning_rate=0.4, max_depth=5, n_estimators=1000)\n",
      "\n",
      " The best score across ALL searched params:\n",
      " 0.9674065313636497\n",
      "\n",
      " The best parameters across ALL searched params:\n",
      " {'learning_rate': 0.4, 'max_depth': 5, 'n_estimators': 1000}\n"
     ]
    }
   ],
   "source": [
    "print(\"\\n The best estimator across ALL searched params:\\n\",grid_gbr.best_estimator_)\n",
    "print(\"\\n The best score across ALL searched params:\\n\",grid_gbr.best_score_)\n",
    "print(\"\\n The best parameters across ALL searched params:\\n\",grid_gbr.best_params_)"
   ]
  },
  {
   "cell_type": "code",
   "execution_count": 78,
   "id": "d2a1a6a6",
   "metadata": {},
   "outputs": [],
   "source": [
    "# Initializing gradient Boosting algorithm with best estimators obtained from GridSearchCV\n",
    "best_gbr = grid_gbr.best_estimator_"
   ]
  },
  {
   "cell_type": "code",
   "execution_count": 79,
   "id": "5a4c2df1",
   "metadata": {},
   "outputs": [],
   "source": [
    "# prediction on test data\n",
    "test_pred = best_gbr.predict(x_test)"
   ]
  },
  {
   "cell_type": "code",
   "execution_count": 80,
   "id": "91ba0acd",
   "metadata": {},
   "outputs": [],
   "source": [
    "# importing evaluation metrics\n",
    "from sklearn.metrics import mean_squared_error, r2_score"
   ]
  },
  {
   "cell_type": "code",
   "execution_count": 81,
   "id": "e7ad626c",
   "metadata": {},
   "outputs": [
    {
     "name": "stdout",
     "output_type": "stream",
     "text": [
      "RMSE on Test data 1924.3090278272425\n",
      "R-Squared on Test data  0.9814563900125612\n"
     ]
    }
   ],
   "source": [
    "print(\"RMSE on Test data\",np.sqrt(mean_squared_error(y_test,test_pred)))\n",
    "print(\"R-Squared on Test data \", r2_score(y_test, test_pred))"
   ]
  },
  {
   "cell_type": "code",
   "execution_count": 82,
   "id": "5f56d06f",
   "metadata": {},
   "outputs": [],
   "source": [
    "# predicting on train data with best gradient Boosting Algorithm model obtained from GridSearchCV\n",
    "train_pred=best_gbr.predict(x_train)"
   ]
  },
  {
   "cell_type": "code",
   "execution_count": 83,
   "id": "4e9d6000",
   "metadata": {},
   "outputs": [
    {
     "name": "stdout",
     "output_type": "stream",
     "text": [
      "RMSE on Train data 2057.8321490137423\n",
      "R-Squared on Train data  0.9813446769758862\n"
     ]
    }
   ],
   "source": [
    "# predicting model on train data\n",
    "print(\"RMSE on Train data\",np.sqrt(mean_squared_error(y_train,train_pred)))\n",
    "print(\"R-Squared on Train data \", r2_score(y_train, train_pred))\n"
   ]
  },
  {
   "cell_type": "code",
   "execution_count": 84,
   "id": "9b22df89",
   "metadata": {},
   "outputs": [],
   "source": [
    "# Applying RandomizedSearchCV\n",
    "stratifiedkf=StratifiedKFold(n_splits=3)\n",
    "random_gb = RandomizedSearchCV(estimator = gbr, param_distributions= parameters ,n_iter = 10, cv= stratifiedkf, n_jobs=-1)"
   ]
  },
  {
   "cell_type": "code",
   "execution_count": 85,
   "id": "6589f657",
   "metadata": {},
   "outputs": [
    {
     "data": {
      "text/html": [
       "<style>#sk-container-id-3 {color: black;background-color: white;}#sk-container-id-3 pre{padding: 0;}#sk-container-id-3 div.sk-toggleable {background-color: white;}#sk-container-id-3 label.sk-toggleable__label {cursor: pointer;display: block;width: 100%;margin-bottom: 0;padding: 0.3em;box-sizing: border-box;text-align: center;}#sk-container-id-3 label.sk-toggleable__label-arrow:before {content: \"▸\";float: left;margin-right: 0.25em;color: #696969;}#sk-container-id-3 label.sk-toggleable__label-arrow:hover:before {color: black;}#sk-container-id-3 div.sk-estimator:hover label.sk-toggleable__label-arrow:before {color: black;}#sk-container-id-3 div.sk-toggleable__content {max-height: 0;max-width: 0;overflow: hidden;text-align: left;background-color: #f0f8ff;}#sk-container-id-3 div.sk-toggleable__content pre {margin: 0.2em;color: black;border-radius: 0.25em;background-color: #f0f8ff;}#sk-container-id-3 input.sk-toggleable__control:checked~div.sk-toggleable__content {max-height: 200px;max-width: 100%;overflow: auto;}#sk-container-id-3 input.sk-toggleable__control:checked~label.sk-toggleable__label-arrow:before {content: \"▾\";}#sk-container-id-3 div.sk-estimator input.sk-toggleable__control:checked~label.sk-toggleable__label {background-color: #d4ebff;}#sk-container-id-3 div.sk-label input.sk-toggleable__control:checked~label.sk-toggleable__label {background-color: #d4ebff;}#sk-container-id-3 input.sk-hidden--visually {border: 0;clip: rect(1px 1px 1px 1px);clip: rect(1px, 1px, 1px, 1px);height: 1px;margin: -1px;overflow: hidden;padding: 0;position: absolute;width: 1px;}#sk-container-id-3 div.sk-estimator {font-family: monospace;background-color: #f0f8ff;border: 1px dotted black;border-radius: 0.25em;box-sizing: border-box;margin-bottom: 0.5em;}#sk-container-id-3 div.sk-estimator:hover {background-color: #d4ebff;}#sk-container-id-3 div.sk-parallel-item::after {content: \"\";width: 100%;border-bottom: 1px solid gray;flex-grow: 1;}#sk-container-id-3 div.sk-label:hover label.sk-toggleable__label {background-color: #d4ebff;}#sk-container-id-3 div.sk-serial::before {content: \"\";position: absolute;border-left: 1px solid gray;box-sizing: border-box;top: 0;bottom: 0;left: 50%;z-index: 0;}#sk-container-id-3 div.sk-serial {display: flex;flex-direction: column;align-items: center;background-color: white;padding-right: 0.2em;padding-left: 0.2em;position: relative;}#sk-container-id-3 div.sk-item {position: relative;z-index: 1;}#sk-container-id-3 div.sk-parallel {display: flex;align-items: stretch;justify-content: center;background-color: white;position: relative;}#sk-container-id-3 div.sk-item::before, #sk-container-id-3 div.sk-parallel-item::before {content: \"\";position: absolute;border-left: 1px solid gray;box-sizing: border-box;top: 0;bottom: 0;left: 50%;z-index: -1;}#sk-container-id-3 div.sk-parallel-item {display: flex;flex-direction: column;z-index: 1;position: relative;background-color: white;}#sk-container-id-3 div.sk-parallel-item:first-child::after {align-self: flex-end;width: 50%;}#sk-container-id-3 div.sk-parallel-item:last-child::after {align-self: flex-start;width: 50%;}#sk-container-id-3 div.sk-parallel-item:only-child::after {width: 0;}#sk-container-id-3 div.sk-dashed-wrapped {border: 1px dashed gray;margin: 0 0.4em 0.5em 0.4em;box-sizing: border-box;padding-bottom: 0.4em;background-color: white;}#sk-container-id-3 div.sk-label label {font-family: monospace;font-weight: bold;display: inline-block;line-height: 1.2em;}#sk-container-id-3 div.sk-label-container {text-align: center;}#sk-container-id-3 div.sk-container {/* jupyter's `normalize.less` sets `[hidden] { display: none; }` but bootstrap.min.css set `[hidden] { display: none !important; }` so we also need the `!important` here to be able to override the default hidden behavior on the sphinx rendered scikit-learn.org. See: https://github.com/scikit-learn/scikit-learn/issues/21755 */display: inline-block !important;position: relative;}#sk-container-id-3 div.sk-text-repr-fallback {display: none;}</style><div id=\"sk-container-id-3\" class=\"sk-top-container\"><div class=\"sk-text-repr-fallback\"><pre>RandomizedSearchCV(cv=StratifiedKFold(n_splits=3, random_state=None, shuffle=False),\n",
       "                   estimator=GradientBoostingRegressor(), n_jobs=-1,\n",
       "                   param_distributions={&#x27;learning_rate&#x27;: [0.1, 0.2, 0.3, 0.4,\n",
       "                                                          0.5],\n",
       "                                        &#x27;max_depth&#x27;: [2, 3, 5],\n",
       "                                        &#x27;n_estimators&#x27;: [100, 300, 500, 1000]})</pre><b>In a Jupyter environment, please rerun this cell to show the HTML representation or trust the notebook. <br />On GitHub, the HTML representation is unable to render, please try loading this page with nbviewer.org.</b></div><div class=\"sk-container\" hidden><div class=\"sk-item sk-dashed-wrapped\"><div class=\"sk-label-container\"><div class=\"sk-label sk-toggleable\"><input class=\"sk-toggleable__control sk-hidden--visually\" id=\"sk-estimator-id-5\" type=\"checkbox\" ><label for=\"sk-estimator-id-5\" class=\"sk-toggleable__label sk-toggleable__label-arrow\">RandomizedSearchCV</label><div class=\"sk-toggleable__content\"><pre>RandomizedSearchCV(cv=StratifiedKFold(n_splits=3, random_state=None, shuffle=False),\n",
       "                   estimator=GradientBoostingRegressor(), n_jobs=-1,\n",
       "                   param_distributions={&#x27;learning_rate&#x27;: [0.1, 0.2, 0.3, 0.4,\n",
       "                                                          0.5],\n",
       "                                        &#x27;max_depth&#x27;: [2, 3, 5],\n",
       "                                        &#x27;n_estimators&#x27;: [100, 300, 500, 1000]})</pre></div></div></div><div class=\"sk-parallel\"><div class=\"sk-parallel-item\"><div class=\"sk-item\"><div class=\"sk-label-container\"><div class=\"sk-label sk-toggleable\"><input class=\"sk-toggleable__control sk-hidden--visually\" id=\"sk-estimator-id-6\" type=\"checkbox\" ><label for=\"sk-estimator-id-6\" class=\"sk-toggleable__label sk-toggleable__label-arrow\">estimator: GradientBoostingRegressor</label><div class=\"sk-toggleable__content\"><pre>GradientBoostingRegressor()</pre></div></div></div><div class=\"sk-serial\"><div class=\"sk-item\"><div class=\"sk-estimator sk-toggleable\"><input class=\"sk-toggleable__control sk-hidden--visually\" id=\"sk-estimator-id-7\" type=\"checkbox\" ><label for=\"sk-estimator-id-7\" class=\"sk-toggleable__label sk-toggleable__label-arrow\">GradientBoostingRegressor</label><div class=\"sk-toggleable__content\"><pre>GradientBoostingRegressor()</pre></div></div></div></div></div></div></div></div></div></div>"
      ],
      "text/plain": [
       "RandomizedSearchCV(cv=StratifiedKFold(n_splits=3, random_state=None, shuffle=False),\n",
       "                   estimator=GradientBoostingRegressor(), n_jobs=-1,\n",
       "                   param_distributions={'learning_rate': [0.1, 0.2, 0.3, 0.4,\n",
       "                                                          0.5],\n",
       "                                        'max_depth': [2, 3, 5],\n",
       "                                        'n_estimators': [100, 300, 500, 1000]})"
      ]
     },
     "execution_count": 85,
     "metadata": {},
     "output_type": "execute_result"
    }
   ],
   "source": [
    "# Fitting Gradient boosting resgression algorithm with RandomizedSearchCV\n",
    "random_gb.fit(x_train,y_train)"
   ]
  },
  {
   "cell_type": "code",
   "execution_count": 86,
   "id": "4804c21e",
   "metadata": {},
   "outputs": [
    {
     "data": {
      "text/plain": [
       "{'n_estimators': 500, 'max_depth': 2, 'learning_rate': 0.5}"
      ]
     },
     "execution_count": 86,
     "metadata": {},
     "output_type": "execute_result"
    }
   ],
   "source": [
    "# parameters used for best model\n",
    "random_gb.best_params_"
   ]
  },
  {
   "cell_type": "code",
   "execution_count": 87,
   "id": "d22418eb",
   "metadata": {},
   "outputs": [
    {
     "data": {
      "text/html": [
       "<style>#sk-container-id-4 {color: black;background-color: white;}#sk-container-id-4 pre{padding: 0;}#sk-container-id-4 div.sk-toggleable {background-color: white;}#sk-container-id-4 label.sk-toggleable__label {cursor: pointer;display: block;width: 100%;margin-bottom: 0;padding: 0.3em;box-sizing: border-box;text-align: center;}#sk-container-id-4 label.sk-toggleable__label-arrow:before {content: \"▸\";float: left;margin-right: 0.25em;color: #696969;}#sk-container-id-4 label.sk-toggleable__label-arrow:hover:before {color: black;}#sk-container-id-4 div.sk-estimator:hover label.sk-toggleable__label-arrow:before {color: black;}#sk-container-id-4 div.sk-toggleable__content {max-height: 0;max-width: 0;overflow: hidden;text-align: left;background-color: #f0f8ff;}#sk-container-id-4 div.sk-toggleable__content pre {margin: 0.2em;color: black;border-radius: 0.25em;background-color: #f0f8ff;}#sk-container-id-4 input.sk-toggleable__control:checked~div.sk-toggleable__content {max-height: 200px;max-width: 100%;overflow: auto;}#sk-container-id-4 input.sk-toggleable__control:checked~label.sk-toggleable__label-arrow:before {content: \"▾\";}#sk-container-id-4 div.sk-estimator input.sk-toggleable__control:checked~label.sk-toggleable__label {background-color: #d4ebff;}#sk-container-id-4 div.sk-label input.sk-toggleable__control:checked~label.sk-toggleable__label {background-color: #d4ebff;}#sk-container-id-4 input.sk-hidden--visually {border: 0;clip: rect(1px 1px 1px 1px);clip: rect(1px, 1px, 1px, 1px);height: 1px;margin: -1px;overflow: hidden;padding: 0;position: absolute;width: 1px;}#sk-container-id-4 div.sk-estimator {font-family: monospace;background-color: #f0f8ff;border: 1px dotted black;border-radius: 0.25em;box-sizing: border-box;margin-bottom: 0.5em;}#sk-container-id-4 div.sk-estimator:hover {background-color: #d4ebff;}#sk-container-id-4 div.sk-parallel-item::after {content: \"\";width: 100%;border-bottom: 1px solid gray;flex-grow: 1;}#sk-container-id-4 div.sk-label:hover label.sk-toggleable__label {background-color: #d4ebff;}#sk-container-id-4 div.sk-serial::before {content: \"\";position: absolute;border-left: 1px solid gray;box-sizing: border-box;top: 0;bottom: 0;left: 50%;z-index: 0;}#sk-container-id-4 div.sk-serial {display: flex;flex-direction: column;align-items: center;background-color: white;padding-right: 0.2em;padding-left: 0.2em;position: relative;}#sk-container-id-4 div.sk-item {position: relative;z-index: 1;}#sk-container-id-4 div.sk-parallel {display: flex;align-items: stretch;justify-content: center;background-color: white;position: relative;}#sk-container-id-4 div.sk-item::before, #sk-container-id-4 div.sk-parallel-item::before {content: \"\";position: absolute;border-left: 1px solid gray;box-sizing: border-box;top: 0;bottom: 0;left: 50%;z-index: -1;}#sk-container-id-4 div.sk-parallel-item {display: flex;flex-direction: column;z-index: 1;position: relative;background-color: white;}#sk-container-id-4 div.sk-parallel-item:first-child::after {align-self: flex-end;width: 50%;}#sk-container-id-4 div.sk-parallel-item:last-child::after {align-self: flex-start;width: 50%;}#sk-container-id-4 div.sk-parallel-item:only-child::after {width: 0;}#sk-container-id-4 div.sk-dashed-wrapped {border: 1px dashed gray;margin: 0 0.4em 0.5em 0.4em;box-sizing: border-box;padding-bottom: 0.4em;background-color: white;}#sk-container-id-4 div.sk-label label {font-family: monospace;font-weight: bold;display: inline-block;line-height: 1.2em;}#sk-container-id-4 div.sk-label-container {text-align: center;}#sk-container-id-4 div.sk-container {/* jupyter's `normalize.less` sets `[hidden] { display: none; }` but bootstrap.min.css set `[hidden] { display: none !important; }` so we also need the `!important` here to be able to override the default hidden behavior on the sphinx rendered scikit-learn.org. See: https://github.com/scikit-learn/scikit-learn/issues/21755 */display: inline-block !important;position: relative;}#sk-container-id-4 div.sk-text-repr-fallback {display: none;}</style><div id=\"sk-container-id-4\" class=\"sk-top-container\"><div class=\"sk-text-repr-fallback\"><pre>GradientBoostingRegressor(learning_rate=0.5, max_depth=2, n_estimators=500)</pre><b>In a Jupyter environment, please rerun this cell to show the HTML representation or trust the notebook. <br />On GitHub, the HTML representation is unable to render, please try loading this page with nbviewer.org.</b></div><div class=\"sk-container\" hidden><div class=\"sk-item\"><div class=\"sk-estimator sk-toggleable\"><input class=\"sk-toggleable__control sk-hidden--visually\" id=\"sk-estimator-id-8\" type=\"checkbox\" checked><label for=\"sk-estimator-id-8\" class=\"sk-toggleable__label sk-toggleable__label-arrow\">GradientBoostingRegressor</label><div class=\"sk-toggleable__content\"><pre>GradientBoostingRegressor(learning_rate=0.5, max_depth=2, n_estimators=500)</pre></div></div></div></div></div>"
      ],
      "text/plain": [
       "GradientBoostingRegressor(learning_rate=0.5, max_depth=2, n_estimators=500)"
      ]
     },
     "execution_count": 87,
     "metadata": {},
     "output_type": "execute_result"
    }
   ],
   "source": [
    "random_gb.best_estimator_"
   ]
  },
  {
   "cell_type": "code",
   "execution_count": 88,
   "id": "f24270af",
   "metadata": {},
   "outputs": [],
   "source": [
    "# intializing model with best estimator\n",
    "random_gbmodel= random_gb.best_estimator_"
   ]
  },
  {
   "cell_type": "code",
   "execution_count": 89,
   "id": "5c79def0",
   "metadata": {},
   "outputs": [],
   "source": [
    "# predicting on test data from best results obtained from randomSearchCV\n",
    "test_pred_ran = random_gbmodel.predict(x_test)"
   ]
  },
  {
   "cell_type": "code",
   "execution_count": 90,
   "id": "ee4b329c",
   "metadata": {},
   "outputs": [
    {
     "name": "stdout",
     "output_type": "stream",
     "text": [
      " RMSE for Test data with RandomSearchCV is  1995.2252630246048\n",
      " R- Squared score for Test result with RandomsearchCV is  0.9800644363120948\n"
     ]
    }
   ],
   "source": [
    "print(\" RMSE for Test data with RandomSearchCV is \", np.sqrt(mean_squared_error(y_test, test_pred_ran)))\n",
    "print(\" R- Squared score for Test result with RandomsearchCV is \", r2_score(y_test, test_pred_ran))"
   ]
  },
  {
   "cell_type": "code",
   "execution_count": 91,
   "id": "78b9141c",
   "metadata": {},
   "outputs": [],
   "source": [
    "# predicting on train data with best results obtained from randomSearchCV\n",
    "train_pred_ran = random_gbmodel.predict(x_train)"
   ]
  },
  {
   "cell_type": "code",
   "execution_count": 92,
   "id": "204d1e8f",
   "metadata": {},
   "outputs": [
    {
     "name": "stdout",
     "output_type": "stream",
     "text": [
      " RMSE for Train data with RandomSearchCV is  2057.832190861681\n",
      " R- Squared score for Test result with RandomsearchCV is  0.9813446762171394\n"
     ]
    }
   ],
   "source": [
    "print(\" RMSE for Train data with RandomSearchCV is \", np.sqrt(mean_squared_error(y_train, train_pred_ran)))\n",
    "print(\" R- Squared score for Test result with RandomsearchCV is \", r2_score(y_train, train_pred_ran))"
   ]
  },
  {
   "cell_type": "code",
   "execution_count": 93,
   "id": "02ba66f5",
   "metadata": {},
   "outputs": [
    {
     "data": {
      "text/html": [
       "<style>#sk-container-id-5 {color: black;background-color: white;}#sk-container-id-5 pre{padding: 0;}#sk-container-id-5 div.sk-toggleable {background-color: white;}#sk-container-id-5 label.sk-toggleable__label {cursor: pointer;display: block;width: 100%;margin-bottom: 0;padding: 0.3em;box-sizing: border-box;text-align: center;}#sk-container-id-5 label.sk-toggleable__label-arrow:before {content: \"▸\";float: left;margin-right: 0.25em;color: #696969;}#sk-container-id-5 label.sk-toggleable__label-arrow:hover:before {color: black;}#sk-container-id-5 div.sk-estimator:hover label.sk-toggleable__label-arrow:before {color: black;}#sk-container-id-5 div.sk-toggleable__content {max-height: 0;max-width: 0;overflow: hidden;text-align: left;background-color: #f0f8ff;}#sk-container-id-5 div.sk-toggleable__content pre {margin: 0.2em;color: black;border-radius: 0.25em;background-color: #f0f8ff;}#sk-container-id-5 input.sk-toggleable__control:checked~div.sk-toggleable__content {max-height: 200px;max-width: 100%;overflow: auto;}#sk-container-id-5 input.sk-toggleable__control:checked~label.sk-toggleable__label-arrow:before {content: \"▾\";}#sk-container-id-5 div.sk-estimator input.sk-toggleable__control:checked~label.sk-toggleable__label {background-color: #d4ebff;}#sk-container-id-5 div.sk-label input.sk-toggleable__control:checked~label.sk-toggleable__label {background-color: #d4ebff;}#sk-container-id-5 input.sk-hidden--visually {border: 0;clip: rect(1px 1px 1px 1px);clip: rect(1px, 1px, 1px, 1px);height: 1px;margin: -1px;overflow: hidden;padding: 0;position: absolute;width: 1px;}#sk-container-id-5 div.sk-estimator {font-family: monospace;background-color: #f0f8ff;border: 1px dotted black;border-radius: 0.25em;box-sizing: border-box;margin-bottom: 0.5em;}#sk-container-id-5 div.sk-estimator:hover {background-color: #d4ebff;}#sk-container-id-5 div.sk-parallel-item::after {content: \"\";width: 100%;border-bottom: 1px solid gray;flex-grow: 1;}#sk-container-id-5 div.sk-label:hover label.sk-toggleable__label {background-color: #d4ebff;}#sk-container-id-5 div.sk-serial::before {content: \"\";position: absolute;border-left: 1px solid gray;box-sizing: border-box;top: 0;bottom: 0;left: 50%;z-index: 0;}#sk-container-id-5 div.sk-serial {display: flex;flex-direction: column;align-items: center;background-color: white;padding-right: 0.2em;padding-left: 0.2em;position: relative;}#sk-container-id-5 div.sk-item {position: relative;z-index: 1;}#sk-container-id-5 div.sk-parallel {display: flex;align-items: stretch;justify-content: center;background-color: white;position: relative;}#sk-container-id-5 div.sk-item::before, #sk-container-id-5 div.sk-parallel-item::before {content: \"\";position: absolute;border-left: 1px solid gray;box-sizing: border-box;top: 0;bottom: 0;left: 50%;z-index: -1;}#sk-container-id-5 div.sk-parallel-item {display: flex;flex-direction: column;z-index: 1;position: relative;background-color: white;}#sk-container-id-5 div.sk-parallel-item:first-child::after {align-self: flex-end;width: 50%;}#sk-container-id-5 div.sk-parallel-item:last-child::after {align-self: flex-start;width: 50%;}#sk-container-id-5 div.sk-parallel-item:only-child::after {width: 0;}#sk-container-id-5 div.sk-dashed-wrapped {border: 1px dashed gray;margin: 0 0.4em 0.5em 0.4em;box-sizing: border-box;padding-bottom: 0.4em;background-color: white;}#sk-container-id-5 div.sk-label label {font-family: monospace;font-weight: bold;display: inline-block;line-height: 1.2em;}#sk-container-id-5 div.sk-label-container {text-align: center;}#sk-container-id-5 div.sk-container {/* jupyter's `normalize.less` sets `[hidden] { display: none; }` but bootstrap.min.css set `[hidden] { display: none !important; }` so we also need the `!important` here to be able to override the default hidden behavior on the sphinx rendered scikit-learn.org. See: https://github.com/scikit-learn/scikit-learn/issues/21755 */display: inline-block !important;position: relative;}#sk-container-id-5 div.sk-text-repr-fallback {display: none;}</style><div id=\"sk-container-id-5\" class=\"sk-top-container\"><div class=\"sk-text-repr-fallback\"><pre>GradientBoostingRegressor(learning_rate=0.5, max_depth=2, n_estimators=500)</pre><b>In a Jupyter environment, please rerun this cell to show the HTML representation or trust the notebook. <br />On GitHub, the HTML representation is unable to render, please try loading this page with nbviewer.org.</b></div><div class=\"sk-container\" hidden><div class=\"sk-item\"><div class=\"sk-estimator sk-toggleable\"><input class=\"sk-toggleable__control sk-hidden--visually\" id=\"sk-estimator-id-9\" type=\"checkbox\" checked><label for=\"sk-estimator-id-9\" class=\"sk-toggleable__label sk-toggleable__label-arrow\">GradientBoostingRegressor</label><div class=\"sk-toggleable__content\"><pre>GradientBoostingRegressor(learning_rate=0.5, max_depth=2, n_estimators=500)</pre></div></div></div></div></div>"
      ],
      "text/plain": [
       "GradientBoostingRegressor(learning_rate=0.5, max_depth=2, n_estimators=500)"
      ]
     },
     "execution_count": 93,
     "metadata": {},
     "output_type": "execute_result"
    }
   ],
   "source": [
    "random_gbmodel.fit(x_norm.values,y.values)"
   ]
  },
  {
   "cell_type": "code",
   "execution_count": 94,
   "id": "f1785a0b",
   "metadata": {},
   "outputs": [],
   "source": [
    "import pickle"
   ]
  },
  {
   "cell_type": "code",
   "execution_count": 99,
   "id": "574aa60d",
   "metadata": {},
   "outputs": [],
   "source": [
    "# making a pickle file\n",
    "pickle_out = open(\"edtech_flask_new.pkl\",\"wb\")\n",
    "pickle.dump(random_gbmodel,pickle_out)"
   ]
  },
  {
   "cell_type": "code",
   "execution_count": 100,
   "id": "ed183dee",
   "metadata": {},
   "outputs": [
    {
     "name": "stdout",
     "output_type": "stream",
     "text": [
      "0.9897467192597701\n"
     ]
    }
   ],
   "source": [
    "# checking if pickle file is working fine\n",
    "loaded_model = pickle.load(open(\"edtech_flask_new.pkl\",\"rb\"))\n",
    "result = loaded_model.score(x_test, y_test)\n",
    "print(result)"
   ]
  },
  {
   "cell_type": "code",
   "execution_count": 97,
   "id": "63748e6f",
   "metadata": {},
   "outputs": [
    {
     "data": {
      "text/plain": [
       "Index(['institute_brand_value', 'instructors_grade', 'number_of_instructors',\n",
       "       'course_Level', 'course_length', 'cost_of_course_curricullum',\n",
       "       'study_material_cost', 'Office_rent', 'Infrastructure_cost',\n",
       "       'Office_electricity_charges', 'Misclleneous_expense',\n",
       "       'cost_of_acquisition', 'competition_level', 'course_title_Data_Science',\n",
       "       'course_title_Tableau', 'course_market_School', 'course_market_student',\n",
       "       'online_live_class_Yes', 'online_pre_recorded_sessions_Yes',\n",
       "       'Offiline_classes_Yes', 'state_Hyderabad', 'support_Staff_required_Yes',\n",
       "       'certification_Yes', 'Placement_Yes'],\n",
       "      dtype='object')"
      ]
     },
     "execution_count": 97,
     "metadata": {},
     "output_type": "execute_result"
    }
   ],
   "source": [
    "x_norm.columns"
   ]
  },
  {
   "cell_type": "code",
   "execution_count": null,
   "id": "3636f589",
   "metadata": {},
   "outputs": [],
   "source": []
  }
 ],
 "metadata": {
  "kernelspec": {
   "display_name": "Python 3 (ipykernel)",
   "language": "python",
   "name": "python3"
  },
  "language_info": {
   "codemirror_mode": {
    "name": "ipython",
    "version": 3
   },
   "file_extension": ".py",
   "mimetype": "text/x-python",
   "name": "python",
   "nbconvert_exporter": "python",
   "pygments_lexer": "ipython3",
   "version": "3.9.12"
  }
 },
 "nbformat": 4,
 "nbformat_minor": 5
}
